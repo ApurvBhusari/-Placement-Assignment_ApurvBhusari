{
 "cells": [
  {
   "cell_type": "code",
   "execution_count": 2,
   "id": "13b0791c",
   "metadata": {},
   "outputs": [
    {
     "name": "stdout",
     "output_type": "stream",
     "text": [
      "True\n",
      "False\n",
      "False\n"
     ]
    }
   ],
   "source": [
    "#Given an integer `n`, return *`true` if it is a power of three. Otherwise, return `false`*.\n",
    "\n",
    "#An integer `n` is a power of three, if there exists an integer `x` such that `n == 3x`.\n",
    "#Example:\n",
    "#Input: n = 27\n",
    "#Output: true\n",
    "#Explanation: 27 = 33\n",
    "\n",
    "class PowerOfThreeChecker:\n",
    "    def isPowerOfThree(self, n):\n",
    "        if n == 1:\n",
    "            return True\n",
    "        if n <= 0 or n % 3 != 0:\n",
    "            return False\n",
    "        return self.isPowerOfThree(n // 3)\n",
    "\n",
    "    \n",
    "checker = PowerOfThreeChecker()\n",
    "\n",
    "print(checker.isPowerOfThree(27))  # Output: True\n",
    "\n",
    "\n",
    "checker1 = PowerOfThreeChecker()\n",
    "\n",
    "print(checker1.isPowerOfThree(0))  # Output: True\\\n",
    "\n",
    "checker = PowerOfThreeChecker()\n",
    "\n",
    "print(checker.isPowerOfThree(-1))  # Output: True\n",
    "\n"
   ]
  },
  {
   "cell_type": "code",
   "execution_count": null,
   "id": "489fabf7",
   "metadata": {},
   "outputs": [],
   "source": [
    "#You have a list `arr` of all integers in the range `[1, n]` sorted in a strictly increasing order. Apply the following algorithm on `arr`:\n",
    "\n",
    "#- Starting from left to right, remove the first number and every other number afterward until you reach the end of the list.\n",
    "#- Repeat the previous step again, but this time from right to left, remove the rightmost number and every other number from the remaining numbers.\n",
    "#- Keep repeating the steps again, alternating left to right and right to left, until a single number remains.\n",
    "\n",
    "#Given the integer `n`, return *the last number that remains in* `arr`.\n",
    "\n",
    "#**Example 1:**\n",
    "\n",
    "class LastRemainingNumber:\n",
    "    def lastRemaining(self, n):\n",
    "        if n == 1:\n",
    "            return 1\n",
    "        elif n % 2 == 0:\n",
    "            return 2 * (n // 2 + 1 - self.lastRemaining(n // 2))\n",
    "        else:\n",
    "            return 2 * self.lastRemaining(n // 2)\n",
    "solver = LastRemainingNumber()\n",
    "\n",
    "print(solver.lastRemaining(9))  # Output: 6\n"
   ]
  },
  {
   "cell_type": "code",
   "execution_count": 3,
   "id": "ff85399d",
   "metadata": {},
   "outputs": [
    {
     "name": "stdout",
     "output_type": "stream",
     "text": [
      "['', 'c', 'b', 'bc', 'a', 'ac', 'ab', 'abc']\n",
      "['', 'd', 'c', 'cd', 'b', 'bd', 'bc', 'bcd', 'a', 'ad', 'ac', 'acd', 'ab', 'abd', 'abc', 'abcd']\n"
     ]
    }
   ],
   "source": [
    "#Given a set represented as a string, write a recursive code to print all subsets of it. The subsets can be printed in any order.\n",
    "\n",
    "#**Example 1:**\n",
    "\n",
    "#Input :  set = “abc”\n",
    "\n",
    "#Output : { “”, “a”, “b”, “c”, “ab”, “ac”, “bc”, “abc”}\n",
    "\n",
    "#**Example 2:**\n",
    "\n",
    "#Input : set = “abcd”\n",
    "\n",
    "#Output : { “”, “a” ,”ab” ,”abc” ,”abcd”, “abd” ,”ac” ,”acd”, “ad” ,”b”, “bc” ,”bcd” ,”bd” ,”c” ,”cd” ,”d” }\n",
    "\n",
    "class SubsetPrinter:\n",
    "    def printSubsets(self, s):\n",
    "        subsets = []\n",
    "        self.generateSubsets(s, \"\", 0, subsets)\n",
    "        return subsets\n",
    "\n",
    "    def generateSubsets(self, s, current, index, subsets):\n",
    "        if index == len(s):\n",
    "            subsets.append(current)\n",
    "            return\n",
    "\n",
    "        self.generateSubsets(s, current, index + 1, subsets)  # Exclude the current element\n",
    "        self.generateSubsets(s, current + s[index], index + 1, subsets)  # Include the current element\n",
    "\n",
    "printer = SubsetPrinter()\n",
    "print(printer.printSubsets(\"abc\"))  # Output: ['', 'c', 'b', 'bc', 'a', 'ac', 'ab', 'abc']\n",
    "print(printer.printSubsets(\"abcd\"))  # Output: ['', 'd', 'c', 'cd', 'b', 'bd', 'bc', 'bcd', 'a', 'ad', 'ac', 'acd', 'ab', 'abd', 'abc', 'abcd']\n"
   ]
  },
  {
   "cell_type": "code",
   "execution_count": 4,
   "id": "74685243",
   "metadata": {},
   "outputs": [
    {
     "name": "stdout",
     "output_type": "stream",
     "text": [
      "4\n",
      "13\n"
     ]
    }
   ],
   "source": [
    "#Given a string calculate length of the string using recursion.\n",
    "\n",
    "#**Examples:**\n",
    "#Input : str = \"abcd\"\n",
    "#Output :4\n",
    "\n",
    "#Input : str = \"GEEKSFORGEEKS\"\n",
    "#Output :13\n",
    "\n",
    "\n",
    "\n",
    "class StringLengthCalculator:\n",
    "    def calculateLength(self, s):\n",
    "        if s == \"\":\n",
    "            return 0\n",
    "        else:\n",
    "            return 1 + self.calculateLength(s[1:])\n",
    "calculator = StringLengthCalculator()\n",
    "\n",
    "print(calculator.calculateLength(\"abcd\"))  # Output: 4\n",
    "print(calculator.calculateLength(\"GEEKSFORGEEKS\"))  # Output: 13\n"
   ]
  },
  {
   "cell_type": "code",
   "execution_count": 7,
   "id": "081a62cb",
   "metadata": {},
   "outputs": [
    {
     "name": "stdout",
     "output_type": "stream",
     "text": [
      "7\n",
      "4\n",
      "2\n",
      "1\n"
     ]
    }
   ],
   "source": [
    "#We are given a string S, we need to find count of all contiguous substrings starting and ending with same character.\n",
    "#Input  : S = \"abcab\"\n",
    "#Output : 7\n",
    "#There are 15 substrings of \"abcab\"\n",
    "#a, ab, abc, abca, abcab, b, bc, bca\n",
    "#bcab, c, ca, cab, a, ab, b\n",
    "#Out of the above substrings, there\n",
    "#are 7 substrings : a, abca, b, bcab,\n",
    "#c, a and b.\n",
    "\n",
    "#Input  : S = \"aba\"\n",
    "#Output : 4\n",
    "#The substrings are a, b, a and aba\n",
    "\n",
    "\n",
    "\n",
    "class ContiguousSubstringCounter:\n",
    "    def countSubstrings(self, s):\n",
    "        return self.countRecursive(s, 0, len(s) - 1)\n",
    "\n",
    "    def countRecursive(self, s, start, end):\n",
    "        if start > end:\n",
    "            return 0\n",
    "        count = self.countRecursive(s, start + 1, end) + self.countRecursive(s, start, end - 1) - self.countRecursive(s, start + 1, end - 1)\n",
    "        if s[start] == s[end]:\n",
    "            count += 1\n",
    "        return count\n",
    "\n",
    "counter = ContiguousSubstringCounter()\n",
    "print(counter.countSubstrings(\"abcab\"))  # Output: 7\n",
    "print(counter.countSubstrings(\"aba\"))  # Output: 4\n",
    "\n",
    "counter = ContiguousSubstringCounter()\n",
    "print(counter.countSubstrings(\"ab\"))  # Output: 7\n",
    "print(counter.countSubstrings(\"b\"))  # Output: 4\n",
    "\n",
    "\n"
   ]
  },
  {
   "cell_type": "code",
   "execution_count": 18,
   "id": "8957cf71",
   "metadata": {},
   "outputs": [
    {
     "name": "stdout",
     "output_type": "stream",
     "text": [
      "Move disk 1 from Rod 1 to Rod 2\n",
      "Move disk 2 from Rod 1 to Rod 3\n",
      "Move disk 1 from Rod 2 to Rod 3\n",
      "Total moves: 3\n",
      "Move disk 1 from Rod 1 to Rod 3\n",
      "Move disk 2 from Rod 1 to Rod 2\n",
      "Move disk 1 from Rod 3 to Rod 2\n",
      "Move disk 3 from Rod 1 to Rod 3\n",
      "Move disk 1 from Rod 2 to Rod 1\n",
      "Move disk 2 from Rod 2 to Rod 3\n",
      "Move disk 1 from Rod 1 to Rod 3\n",
      "Total moves: 7\n"
     ]
    }
   ],
   "source": [
    "#The tower of Hanoi is a famous puzzle where we have three rods and N disks. The objective of the puzzle is to move the entire stack to another rod. You are given the number of discs N. Initially, these discs are in the rod 1. You need to print all the steps of discs movement so that all the discs reach the 3rd rod. Also, you need to find the total moves.Note: The discs are arranged such that the top disc is numbered 1 and the bottom-most disc is numbered N. Also, all the discs have different sizes and a bigger disc cannot be put on the top of a smaller disc. Refer the provided link to get a better clarity about the puzzle.\n",
    "#Input:\n",
    "#N = 2\n",
    "#Output:\n",
    "#move disk 1 from rod 1 to rod 2\n",
    "#move disk 2 from rod 1 to rod 3\n",
    "#move disk 1 from rod 2 to rod 3\n",
    "#3\n",
    "#Explanation:For N=2 , steps will be\n",
    "#as follows in the example and total\n",
    "#3 steps will be taken.\n",
    "\n",
    "class TowerOfHanoi:\n",
    "    def moveDisks(self, n):\n",
    "        self.totalMoves = 0\n",
    "        self.moveDisksRecursive(n, 'Rod 1', 'Rod 2', 'Rod 3')\n",
    "        return self.totalMoves\n",
    "\n",
    "    def moveDisksRecursive(self, n, source, auxiliary, destination):\n",
    "        if n > 0:\n",
    "            self.moveDisksRecursive(n - 1, source, destination, auxiliary)\n",
    "            self.totalMoves += 1\n",
    "            print(f\"Move disk {n} from {source} to {destination}\")\n",
    "            self.moveDisksRecursive(n - 1, auxiliary, source, destination)\n",
    "\n",
    "\n",
    "# Usage\n",
    "tower = TowerOfHanoi()\n",
    "N = 2\n",
    "totalMoves = tower.moveDisks(N)\n",
    "print(f\"Total moves: {totalMoves}\")\n",
    "\n",
    "tower = TowerOfHanoi()\n",
    "N = 3\n",
    "totalMoves = tower.moveDisks(N)\n",
    "print(f\"Total moves: {totalMoves}\")\n",
    "\n",
    "\n",
    "\n",
    "\n",
    "\n",
    "\n",
    "\n"
   ]
  },
  {
   "cell_type": "code",
   "execution_count": 9,
   "id": "1dea162b",
   "metadata": {},
   "outputs": [
    {
     "name": "stdout",
     "output_type": "stream",
     "text": [
      "['cd', 'dc']\n"
     ]
    }
   ],
   "source": [
    "#Given a string str, the task is to print all the permutations of str. A permutation is an arrangement of all or part of a set of objects, with regard to the order of the arrangement. For instance, the words ‘bat’ and ‘tab’ represents two distinct permutation (or arrangements) of a similar three letter word.\n",
    "#**Examples:**\n",
    "\n",
    "#> Input: str = “cd”\n",
    " \n",
    "# **Output:** cd dc\n",
    " \n",
    "# **Input:** str = “abb”\n",
    " \n",
    "# **Output:** abb abb bab bba bab bba\n",
    "class Permutations:\n",
    "    def __init__(self):\n",
    "        self.perms = []\n",
    "\n",
    "    def generatePermutations(self, str):\n",
    "        self.permute(str, 0, len(str) - 1)\n",
    "        return self.perms\n",
    "\n",
    "    def permute(self, str, l, r):\n",
    "        if l == r:\n",
    "            self.perms.append(str)\n",
    "        else:\n",
    "            for i in range(l, r + 1):\n",
    "                str = self.swap(str, l, i)\n",
    "                self.permute(str, l + 1, r)\n",
    "                str = self.swap(str, l, i)  # backtrack\n",
    "\n",
    "    def swap(self, str, i, j):\n",
    "        str_list = list(str)\n",
    "        str_list[i], str_list[j] = str_list[j], str_list[i]\n",
    "        return ''.join(str_list)\n",
    "\n",
    "\n",
    "# Usage\n",
    "permutations = Permutations()\n",
    "str = \"cd\"\n",
    "result = permutations.generatePermutations(str)\n",
    "print(result)\n",
    "\n",
    "permutations = Permutations()\n",
    "str = \"cd\"\n",
    "result = permutations.generatePermutations(str)\n",
    "print(result)\n"
   ]
  },
  {
   "cell_type": "code",
   "execution_count": 11,
   "id": "233401fe",
   "metadata": {},
   "outputs": [
    {
     "name": "stdout",
     "output_type": "stream",
     "text": [
      "3\n",
      "7\n"
     ]
    }
   ],
   "source": [
    "#Given a string, count total number of consonants in it. A consonant is an English alphabet character that is not vowel (a, e, i, o and u). Examples of constants are b, c, d, f, and g.\n",
    "#Input : abc de\n",
    "#Output : 3\n",
    "#There are three consonants b, c and d.\n",
    "#Input : geeksforgeeks portal\n",
    "#Output : 12\n",
    "    \n",
    "    \n",
    "class ConsonantCounter:\n",
    "    def countConsonants(self, str):\n",
    "        consonants = 'bcdfghjklmnpqrstvwxyzBCDFGHJKLMNPQRSTVWXYZ'\n",
    "        return self.countConsonantsRecursive(str, consonants)\n",
    "\n",
    "    def countConsonantsRecursive(self, str, consonants):\n",
    "        if len(str) == 0:\n",
    "            return 0\n",
    "        elif str[0] in consonants:\n",
    "            return 1 + self.countConsonantsRecursive(str[1:], consonants)\n",
    "        else:\n",
    "            return self.countConsonantsRecursive(str[1:], consonants)\n",
    "\n",
    "\n",
    "# Usage\n",
    "counter = ConsonantCounter()\n",
    "str = \"abc de\"\n",
    "result = counter.countConsonants(str)\n",
    "print(result)\n",
    "\n",
    "counter = ConsonantCounter()\n",
    "str = \"apurva bhusari\"\n",
    "result = counter.countConsonants(str)\n",
    "print(result)\n"
   ]
  },
  {
   "cell_type": "code",
   "execution_count": null,
   "id": "45ccc088",
   "metadata": {},
   "outputs": [],
   "source": []
  }
 ],
 "metadata": {
  "kernelspec": {
   "display_name": "Python 3 (ipykernel)",
   "language": "python",
   "name": "python3"
  },
  "language_info": {
   "codemirror_mode": {
    "name": "ipython",
    "version": 3
   },
   "file_extension": ".py",
   "mimetype": "text/x-python",
   "name": "python",
   "nbconvert_exporter": "python",
   "pygments_lexer": "ipython3",
   "version": "3.9.12"
  }
 },
 "nbformat": 4,
 "nbformat_minor": 5
}
