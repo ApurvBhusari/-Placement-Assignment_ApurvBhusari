{
 "cells": [
  {
   "cell_type": "code",
   "execution_count": 42,
   "id": "d893983e",
   "metadata": {},
   "outputs": [
    {
     "name": "stdout",
     "output_type": "stream",
     "text": [
      "2\n",
      "3\n",
      "0\n",
      "5\n",
      "Not within the constraint limit\n",
      "Not within the constraint limit\n"
     ]
    }
   ],
   "source": [
    "#Create a GitHub file for the solutions and then add the link in answer section\n",
    "#Given a non-negative integer x, return the square root of x rounded down to the nearest integer. The returned integer should be non-negative as well. You must not use any built-in exponent function or operator. \n",
    "# Example 1:\n",
    "#Input: x = 4 Output: 2 Explanation: The square root of 4 is 2, so we return 2.\n",
    "#Example 2:\n",
    "#Input: x = 8 Output: 2 Explanation: The square root of 8 is 2.82842..., and since we round it down to the nearest integer, 2 is returned.\n",
    "#Constraints:\n",
    "#0 <= x <= 2^31 - 1\n",
    "\n",
    "\n",
    "\n",
    "\n",
    "# as the constraints is 0 and 2^31-1 which is equal to 28 (xor bitwise operator)\n",
    "class Solution:\n",
    "    def mySqrt(self, x):\n",
    "        if x < 0 or x > (2^31 - 1):\n",
    "            return 'Not within the constraint limit'\n",
    "\n",
    "        left = 1\n",
    "        right = x\n",
    "\n",
    "        while left <= right:\n",
    "            mid = left + (right - left) // 2\n",
    "            mid_square = mid * mid\n",
    "\n",
    "            if mid_square == x:\n",
    "                return mid\n",
    "            elif mid_square > x:\n",
    "                right = mid - 1\n",
    "            else:\n",
    "                left = mid + 1\n",
    "\n",
    "        return right\n",
    "\n",
    "\n",
    "solution = Solution()\n",
    "x = 4\n",
    "sqrt = solution.mySqrt(x)\n",
    "print(sqrt)  \n",
    "\n",
    "solution = Solution()\n",
    "x = 10\n",
    "sqrt = solution.mySqrt(x)\n",
    "print(sqrt)  \n",
    "\n",
    "solution = Solution()\n",
    "x = 0\n",
    "sqrt = solution.mySqrt(x)\n",
    "print(sqrt)  \n",
    "\n",
    "solution = Solution()\n",
    "x = (2^31-1)\n",
    "sqrt = solution.mySqrt(x)\n",
    "print(sqrt)  \n",
    "\n",
    "\n",
    "solution = Solution()\n",
    "x = (-1)\n",
    "sqrt = solution.mySqrt(x)\n",
    "print(sqrt)  \n",
    "\n",
    "\n",
    "solution = Solution()\n",
    "x = (2^31)\n",
    "sqrt = solution.mySqrt(x)\n",
    "print(sqrt)  "
   ]
  },
  {
   "cell_type": "code",
   "execution_count": null,
   "id": "c0f46b6a",
   "metadata": {},
   "outputs": [],
   "source": [
    "#You are given two non-empty linked lists representing two non-negative integers. The digits are stored in reverse order, and each of their nodes contains a single digit. Add the two numbers and return the sum as a linked list.\n",
    "#You may assume the two numbers do not contain any leading zero, except the number 0 itself.\n",
    "#Example 1:\n",
    "#Input: l1 = [2,4,3], l2 = [5,6,4] Output: [7,0,8] Explanation: 342 + 465 = 807.\n",
    "#Example 2:\n",
    "#Input: l1 = [0], l2 = [0] Output: [0]\n",
    "#Example 3:\n",
    "#Input: l1 = [9,9,9,9,9,9,9], l2 = [9,9,9,9] Output: [8,9,9,9,0,0,0,1]\n",
    "#Constraints:\n",
    "\n",
    "#The number of nodes in each linked list is in the range [1, 100].\n",
    "#0 <= Node.val <= 9 It is guaranteed that the list represents a number that does not have leading zeros.\n",
    "\n"
   ]
  }
 ],
 "metadata": {
  "kernelspec": {
   "display_name": "Python 3 (ipykernel)",
   "language": "python",
   "name": "python3"
  },
  "language_info": {
   "codemirror_mode": {
    "name": "ipython",
    "version": 3
   },
   "file_extension": ".py",
   "mimetype": "text/x-python",
   "name": "python",
   "nbconvert_exporter": "python",
   "pygments_lexer": "ipython3",
   "version": "3.9.12"
  }
 },
 "nbformat": 4,
 "nbformat_minor": 5
}
