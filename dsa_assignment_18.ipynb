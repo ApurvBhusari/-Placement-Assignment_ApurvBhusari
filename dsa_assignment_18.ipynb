{
 "cells": [
  {
   "cell_type": "code",
   "execution_count": 14,
   "id": "fc33103e",
   "metadata": {},
   "outputs": [
    {
     "name": "stdout",
     "output_type": "stream",
     "text": [
      "[[1, 6], [8, 10], [15, 18]]\n",
      "[[1, 5]]\n"
     ]
    }
   ],
   "source": [
    "#Given an array of intervals where intervals[i] = [starti, endi], merge all overlapping intervals, and return an array of the non-overlapping intervals that cover all the intervals in the input.\n",
    "\n",
    "def merge_intervals(intervals):\n",
    "    if len(intervals) < 1 or len(intervals) > 10000:\n",
    "        return []  # Return an empty list if the constraint is not satisfied\n",
    "\n",
    "    for interval in intervals:\n",
    "        if len(interval) != 2 or interval[0] < 0 or interval[1] < interval[0] or interval[1] > 10000:\n",
    "            return []  # Return an empty list if the constraint is not satisfied\n",
    "\n",
    "    intervals.sort(key=lambda x: x[0])  # Sort intervals based on starting point\n",
    "    merged = []\n",
    "    for interval in intervals:\n",
    "        if not merged or interval[0] > merged[-1][1]:\n",
    "            # If the merged list is empty or the current interval does not overlap\n",
    "            merged.append(interval)\n",
    "        else:\n",
    "            # Merge the current interval with the previous interval\n",
    "            merged[-1][1] = max(merged[-1][1], interval[1])\n",
    "    return merged\n",
    "\n",
    "a=merge_intervals([[1,3],[2,6],[8,10],[15,18]])\n",
    "print(a)\n",
    "b=merge_intervals([[1,4],[4,5]])\n",
    "print(b)\n"
   ]
  },
  {
   "cell_type": "code",
   "execution_count": 15,
   "id": "fd7d3e65",
   "metadata": {},
   "outputs": [
    {
     "name": "stdout",
     "output_type": "stream",
     "text": [
      "[0, 0, 1, 1, 2, 2]\n",
      "[0, 1, 2]\n"
     ]
    }
   ],
   "source": [
    "#Given an array `nums` with `n` objects colored red, white, or blue, sort them using In-place algorithmso that objects of the same color are adjacent, with the colors in the order red, white, and blue.We will use the integers `0`, `1`, and `2` to represent the color red, white, and blue, respectively.You must solve this problem without using the library's sort function.\n",
    "\n",
    "def sortColors(nums):\n",
    "    n = len(nums)\n",
    "    if n == 0 or n > 300 or any(num < 0 or num > 2 for num in nums):\n",
    "        return nums\n",
    "\n",
    "    low = 0\n",
    "    mid = 0\n",
    "    high = n - 1\n",
    "\n",
    "    while mid <= high:\n",
    "        if nums[mid] == 0:\n",
    "            nums[mid], nums[low] = nums[low], nums[mid]\n",
    "            mid += 1\n",
    "            low += 1\n",
    "        elif nums[mid] == 1:\n",
    "            mid += 1\n",
    "        else:\n",
    "            nums[mid], nums[high] = nums[high], nums[mid]\n",
    "            high -= 1\n",
    "\n",
    "    return nums\n",
    "nums = [2, 0, 2, 1, 1, 0]\n",
    "print(sortColors(nums))\n",
    "# Output: [0, 0, 1, 1, 2, 2]\n",
    "\n",
    "nums = [2, 0, 1]\n",
    "print(sortColors(nums))\n",
    "# Output: [0, 1, 2]\n",
    "\n",
    "    "
   ]
  },
  {
   "cell_type": "code",
   "execution_count": null,
   "id": "bee88952",
   "metadata": {},
   "outputs": [],
   "source": [
    "#You are a product manager and currently leading a team to develop a new product. Unfortunately, the latest version of your product fails the quality check. Since each version is developed based on the previous version, all the versions after a bad version are also bad.Suppose you have `n` versions `[1, 2, ..., n]` and you want to find out the first bad one, which causes all the following ones to be bad.You are given an API `bool isBadVersion(version)` which returns whether `version` is bad. Implement a function to find the first bad version. You should minimize the number of calls to the API.\n",
    "\n",
    "def firstBadVersion(n):\n",
    "    if not (1 <= bad <= n <= 2**31 - 1):\n",
    "        return -1  # Invalid input\n",
    "\n",
    "    left = 1\n",
    "    right = n\n",
    "\n",
    "    while left < right:\n",
    "        mid = left + (right - left) // 2\n",
    "\n",
    "        if isBadVersion(mid):\n",
    "            right = mid\n",
    "        else:\n",
    "            left = mid + 1\n",
    "\n",
    "    return left\n",
    "\n",
    "\n",
    "# Test Case 1\n",
    "n = 5\n",
    "bad = 4\n",
    "result = firstBadVersion(n)\n",
    "print(result)  # Output: 4\n",
    "\n",
    "# Test Case 2\n",
    "n = 1\n",
    "bad = 1\n",
    "result = firstBadVersion(n)\n",
    "print(result)  # Output: 1\n"
   ]
  },
  {
   "cell_type": "code",
   "execution_count": 20,
   "id": "e315119e",
   "metadata": {},
   "outputs": [],
   "source": [
    "def firstBadVersion(n):\n",
    "    left = 1\n",
    "    right = n\n",
    "\n",
    "    while left < right:\n",
    "        mid = left + (right - left) // 2\n",
    "\n",
    "        if isBadVersion(mid):\n",
    "            right = mid\n",
    "        else:\n",
    "            left = mid + 1\n",
    "\n",
    "    return left\n"
   ]
  },
  {
   "cell_type": "code",
   "execution_count": 36,
   "id": "4b7e2584",
   "metadata": {},
   "outputs": [
    {
     "name": "stdout",
     "output_type": "stream",
     "text": [
      "3\n",
      "6\n",
      "9\n",
      "1\n",
      "3\n"
     ]
    }
   ],
   "source": [
    "#4Given an integer array `nums`, return *the maximum difference between two successive elements in its sorted form*. If the array contains less than two elements, return `0`.\n",
    "#You must write an algorithm that runs in linear time and uses linear extra space.\n",
    "\n",
    "def maximumGap(nums):\n",
    "    if len(nums)<0 or len(nums)> 10**5:\n",
    "        return \" constraint Limit crossed\"\n",
    "    if len(nums) < 2:\n",
    "        return 0\n",
    "    \n",
    "    if len(nums) == 2:\n",
    "        return abs(nums[0] - nums[1])\n",
    "    # Check the validity of each element in nums\n",
    "    \n",
    "    for num in nums:\n",
    "        print(num)\n",
    "        if num < 0 or num > (10**9):\n",
    "            raise ValueError(\"Invalid input: nums[i] should be between 0 and 10^9.\")\n",
    "    \n",
    "    # Sort the array\n",
    "    nums.sort()\n",
    "    \n",
    "    max_gap = 0\n",
    "    for i in range(len(nums) - 1):\n",
    "        max_gap = max(max_gap, nums[i+1] - nums[i])\n",
    "    \n",
    "    return max_gap\n",
    "\n",
    "# Test Case 1\n",
    "nums = [3,6,9,1]\n",
    "result = maximumGap(nums)\n",
    "print(result)  # Output: 3\n",
    "\n",
    "\n",
    "\n"
   ]
  },
  {
   "cell_type": "code",
   "execution_count": 45,
   "id": "ad3c49c5",
   "metadata": {},
   "outputs": [
    {
     "name": "stdout",
     "output_type": "stream",
     "text": [
      "True\n",
      "False\n",
      "True\n"
     ]
    }
   ],
   "source": [
    "\n",
    "#Given an integer array nums, return true if any value appears at least twice in the array, and return false if every element is distinct\n",
    "def containsDuplicate(nums):\n",
    "    if 1 <= len(nums) <= 10**5:\n",
    "        num_set = set()\n",
    "        for num in nums:\n",
    "            if num in num_set:\n",
    "                return True\n",
    "            num_set.add(num)\n",
    "        return False\n",
    "    else:\n",
    "        return False\n",
    "\n",
    "# Test Case 1\n",
    "nums = [1, 2, 3, 1]\n",
    "result = containsDuplicate(nums)\n",
    "print(result)  # Output: True\n",
    "\n",
    "# Test Case 2\n",
    "nums = [1, 2, 3, 4]\n",
    "result = containsDuplicate(nums)\n",
    "print(result)  # Output: False\n",
    "\n",
    "# Test Case 3\n",
    "nums = [1, 1, 1, 3, 3, 4, 3, 2, 4, 2]\n",
    "result = containsDuplicate(nums)\n",
    "print(result)  # Output: True\n"
   ]
  },
  {
   "cell_type": "code",
   "execution_count": 51,
   "id": "03e097a8",
   "metadata": {},
   "outputs": [
    {
     "name": "stdout",
     "output_type": "stream",
     "text": [
      "2\n",
      "4\n",
      "2\n"
     ]
    }
   ],
   "source": [
    "#6There are some spherical balloons taped onto a flat wall that represents the XY-plane. The balloons are represented as a 2D integer array `points` where `points[i] = [xstart, xend]` denotes a balloon whose **horizontal diameter** stretches between `xstart` and `xend`. You do not know the exact y-coordinates of the balloons.Arrows can be shot up **directly vertically** (in the positive y-direction) from different points along the x-axis. A balloon with `xstart` and `xend` is **burst** by an arrow shot at `x` if `xstart <= x <= xend`. There is **no limit** to the number of arrows that can be shot. A shot arrow keeps traveling up infinitely, bursting any balloons in its path.Given the array `points`, return *the **minimum** number of arrows that must be shot to burst all balloons*.\n",
    "\n",
    "\n",
    "def findMinArrowShots(points):\n",
    "    if 1 <= len(points) <= 10**5:\n",
    "        if all(len(point) == 2 for point in points):\n",
    "            if not points:\n",
    "                return 0\n",
    "\n",
    "            # Sort the balloons based on their ending points\n",
    "            points.sort(key=lambda x: x[1])\n",
    "\n",
    "            arrows = 1  # Minimum number of arrows needed\n",
    "            end = points[0][1]  # Ending point of the first balloon\n",
    "\n",
    "            for i in range(1, len(points)):\n",
    "                if points[i][0] > end:\n",
    "                    # The current balloon cannot be burst with the previous arrow\n",
    "                    arrows += 1\n",
    "                    end = points[i][1]  # Update the ending point of the balloon\n",
    "                else:\n",
    "                    # Update the ending point to the minimum of the two balloons\n",
    "                    end = min(end, points[i][1])\n",
    "\n",
    "            return arrows\n",
    "        else:\n",
    "            return 0\n",
    "    else:\n",
    "        return 0\n",
    "\n",
    "# Test case 1\n",
    "points = [[10,16],[2,8],[1,6],[7,12]]\n",
    "result = findMinArrowShots(points)\n",
    "print(result)  # Output: 2\n",
    "\n",
    "# Test case 2\n",
    "points = [[1,2],[3,4],[5,6],[7,8]]\n",
    "result = findMinArrowShots(points)\n",
    "print(result)  # Output: 4\n",
    "\n",
    "# Test case 3\n",
    "points = [[1,2],[2,3],[3,4],[4,5]]\n",
    "result = findMinArrowShots(points)\n",
    "print(result)  # Output: 2\n"
   ]
  },
  {
   "cell_type": "code",
   "execution_count": 53,
   "id": "1fd9613b",
   "metadata": {},
   "outputs": [
    {
     "name": "stdout",
     "output_type": "stream",
     "text": [
      "4\n",
      "4\n",
      "1\n"
     ]
    }
   ],
   "source": [
    "#7 Given an integer array `nums`, return *the length of the longest **strictly increasing*** subsequence\n",
    "\n",
    "def lengthOfLIS(nums):\n",
    "    if 1 <= len(nums) <= 2500 and all(-10**4 <= num <= 10**4 for num in nums):\n",
    "        if not nums:\n",
    "            return 0\n",
    "\n",
    "        n = len(nums)\n",
    "        dp = [1] * n  # Initialize an array to store the lengths of increasing subsequences\n",
    "\n",
    "        for i in range(1, n):\n",
    "            for j in range(i):\n",
    "                if nums[i] > nums[j]:\n",
    "                    dp[i] = max(dp[i], dp[j] + 1)\n",
    "\n",
    "        return max(dp)\n",
    "    else:\n",
    "        return 0\n",
    "\n",
    "# Test case 1\n",
    "nums = [10,9,2,5,3,7,101,18]\n",
    "result = lengthOfLIS(nums)\n",
    "print(result)  # Output: 4\n",
    "\n",
    "# Test case 2\n",
    "nums = [0,1,0,3,2,3]\n",
    "result = lengthOfLIS(nums)\n",
    "print(result)  # Output: 4\n",
    "\n",
    "# Test case 3\n",
    "nums = [7,7,7,7,7,7,7]\n",
    "result = lengthOfLIS(nums)\n",
    "print(result)  # Output: 1\n"
   ]
  },
  {
   "cell_type": "code",
   "execution_count": 59,
   "id": "a6bdd14e",
   "metadata": {},
   "outputs": [
    {
     "name": "stdout",
     "output_type": "stream",
     "text": [
      "False\n",
      "True\n",
      "True\n"
     ]
    }
   ],
   "source": [
    "#8  132 Pattern \n",
    "#Given an array of `n` integers `nums`, a **132 pattern** is a subsequence of three integers `nums[i]`, `nums[j]` and `nums[k]` such that `i < j < k` and `nums[i] < nums[k] < nums[j]`.Return `true` *if there is a **132 pattern** in* `nums`*, otherwise, return* `false`*.*\n",
    "\n",
    "def find132pattern(nums):\n",
    "    n = len(nums)\n",
    "    if 1 <= n <= 2 * 10**5 and all(-10**9 <= num <= 10**9 for num in nums) and n == len(nums):\n",
    "        stack = []\n",
    "        second_max = float('-inf')\n",
    "\n",
    "        for i in range(n-1, -1, -1):\n",
    "            if nums[i] < second_max:\n",
    "                return True\n",
    "\n",
    "            while stack and nums[i] > stack[-1]:\n",
    "                second_max = stack.pop()\n",
    "\n",
    "            stack.append(nums[i])\n",
    "\n",
    "        return False\n",
    "    else:\n",
    "        return False\n",
    "\n",
    "# Test case 1\n",
    "nums = [1,2,3,4]\n",
    "result = find132pattern(nums)\n",
    "print(result)  # Output: False\n",
    "\n",
    "# Test case 2\n",
    "nums = [3,1,4,2]\n",
    "result = find132pattern(nums)\n",
    "print(result)  # Output: True\n",
    "\n",
    "# Test case 3\n",
    "nums = [-1,3,2,0]\n",
    "result = find132pattern(nums)\n",
    "print(result)  # Output: True\n",
    "\n",
    "\n"
   ]
  },
  {
   "cell_type": "code",
   "execution_count": null,
   "id": "eabb2d7f",
   "metadata": {},
   "outputs": [],
   "source": []
  }
 ],
 "metadata": {
  "kernelspec": {
   "display_name": "Python 3 (ipykernel)",
   "language": "python",
   "name": "python3"
  },
  "language_info": {
   "codemirror_mode": {
    "name": "ipython",
    "version": 3
   },
   "file_extension": ".py",
   "mimetype": "text/x-python",
   "name": "python",
   "nbconvert_exporter": "python",
   "pygments_lexer": "ipython3",
   "version": "3.9.12"
  }
 },
 "nbformat": 4,
 "nbformat_minor": 5
}
