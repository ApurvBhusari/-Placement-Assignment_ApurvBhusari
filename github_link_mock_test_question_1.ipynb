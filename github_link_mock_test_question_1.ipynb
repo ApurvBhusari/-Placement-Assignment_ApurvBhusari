{
 "cells": [
  {
   "cell_type": "code",
   "execution_count": 23,
   "id": "dfbf9be8",
   "metadata": {},
   "outputs": [
    {
     "name": "stdout",
     "output_type": "stream",
     "text": [
      "[1, 3, 1, 2, 0, 0]\n",
      "[0]\n",
      "Invalid input: nums.length should be between 1 and 10^4 ,since the length is less than 1\n",
      "Invalid input: nums.length should be between 1 and 10^4 ,since the length is greater than 10^4 which is equal to 14\n",
      "Invalid input: nums[i] should be between -2^31 and 2^31 - 1 , since the num[i] 31 is greater than 2^31-1 which is equal to 28\n",
      "Invalid input: nums[i] should be between -2^31 and 2^31 - 1 , since the num[i] -32 is less than -2^31 which is equal to -31\n"
     ]
    }
   ],
   "source": [
    "1\n",
    "\n",
    "\n",
    "\n",
    "#Move Zeroes\n",
    "#Given an integer array nums, move all 0's to the end of it while maintaining the relative order of the non-zero elements.\n",
    "\n",
    "#Note that you must do this in-place without making a copy of the array.\n",
    "\n",
    "#Example 1:\n",
    "#Input: nums = [0,1,0,3,12]\n",
    "#Output: [1,3,12,0,0]\n",
    "\n",
    "#Example 2:\n",
    "#Input: nums = [0]\n",
    "#Output: [0]\n",
    "\n",
    "#Constraints:\n",
    "#a. 1 <= nums.length <= 10^4\n",
    "#b. -2^31 <= nums[i] <= 2^31 - 1\n",
    "\n",
    "\n",
    "\n",
    "\n",
    "\n",
    "\n",
    "class Solution:\n",
    "    def moveZeroes(self, nums):\n",
    "        if len(nums) < 1 or len(nums) > 10^4:\n",
    "            return \"Invalid input: nums.length should be between 1 and 10^4\"\n",
    "\n",
    "        for num in nums:\n",
    "            if num < -2^31 or num > (2^31 - 1):\n",
    "                return \"Invalid input: nums[i] should be between -2^31 and 2^31 - 1\"\n",
    "\n",
    "        zero_ptr = 0\n",
    " \n",
    "        for i in range(len(nums)):\n",
    "            if nums[i] != 0:\n",
    "                nums[i], nums[zero_ptr] = nums[zero_ptr], nums[i]\n",
    "                zero_ptr += 1\n",
    "\n",
    "        while zero_ptr < len(nums):\n",
    "            nums[zero_ptr] = 0\n",
    "            zero_ptr += 1\n",
    "   \n",
    "        return nums\n",
    "\n",
    "#Note since the operator ^ is used in between the constraints condition ,I'm considering it as a bitwise xor operator\n",
    "\n",
    "\n",
    "\n",
    "nums1 = [0,1,0,3,1,2]\n",
    "solution1 = Solution()\n",
    "print(solution1.moveZeroes(nums1))  # Output: [1, 3, 12, 0, 0]\n",
    "\n",
    "nums2 = [0]\n",
    "solution2=Solution()\n",
    "print(solution2.moveZeroes(nums2))  # Output: [0]\n",
    "\n",
    "#checking the constraints len(nums) >1\n",
    "nums3=[]\n",
    "solution3 = Solution()\n",
    "print(solution3.moveZeroes(nums3),',since the length is less than 1')\n",
    "\n",
    "#checking the constraints len(nums) < 10^4 which is equal to 14\n",
    "nums4=[1,5,15,17,2,4,5,0,0,4,2,5,1,6,0]\n",
    "solution4= Solution()\n",
    "print(solution4.moveZeroes(nums4),\",since the length is greater than 10^4 which is equal to 14\")\n",
    "\n",
    "#checking the constraints nums[i] < 2^31-1 which is equal to 28\n",
    "nums5=[1,2,0,0,3,5,31,0]\n",
    "solution5 = Solution()\n",
    "print(solution5.moveZeroes(nums5),', since the num[i] 31 is greater than 2^31-1 which is equal to 28')\n",
    "\n",
    "#checking the constraints  nums[i] > -2^31 which is equal to -31\n",
    "nums6=[1,2,0,0,3,5,-32,0]\n",
    "solution6 = Solution()\n",
    "print(solution6.moveZeroes(nums6),', since the num[i] -32 is less than -2^31 which is equal to -31')"
   ]
  },
  {
   "cell_type": "code",
   "execution_count": 31,
   "id": "15b37925",
   "metadata": {},
   "outputs": [
    {
     "name": "stdout",
     "output_type": "stream",
     "text": [
      "0\n",
      "2\n",
      "-1\n",
      "Length of 's' should be between 1 and 10^5 i.e 15\n",
      "Length of 's' should be between 1 and 10^5 i.e 15\n",
      "s should consist of only lowercase English letters\n"
     ]
    }
   ],
   "source": []
  },
  {
   "cell_type": "code",
   "execution_count": 24,
   "id": "325e3369",
   "metadata": {},
   "outputs": [],
   "source": [
    "a=10^5"
   ]
  },
  {
   "cell_type": "code",
   "execution_count": 25,
   "id": "99d306a9",
   "metadata": {},
   "outputs": [
    {
     "data": {
      "text/plain": [
       "15"
      ]
     },
     "execution_count": 25,
     "metadata": {},
     "output_type": "execute_result"
    }
   ],
   "source": [
    "a"
   ]
  },
  {
   "cell_type": "code",
   "execution_count": null,
   "id": "a4ee925d",
   "metadata": {},
   "outputs": [],
   "source": []
  }
 ],
 "metadata": {
  "kernelspec": {
   "display_name": "Python 3 (ipykernel)",
   "language": "python",
   "name": "python3"
  },
  "language_info": {
   "codemirror_mode": {
    "name": "ipython",
    "version": 3
   },
   "file_extension": ".py",
   "mimetype": "text/x-python",
   "name": "python",
   "nbconvert_exporter": "python",
   "pygments_lexer": "ipython3",
   "version": "3.9.12"
  }
 },
 "nbformat": 4,
 "nbformat_minor": 5
}
