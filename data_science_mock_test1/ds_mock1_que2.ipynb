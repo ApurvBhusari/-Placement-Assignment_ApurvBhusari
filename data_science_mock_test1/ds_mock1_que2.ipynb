{
 "cells": [
  {
   "cell_type": "code",
   "execution_count": 6,
   "id": "df3bc28d",
   "metadata": {},
   "outputs": [
    {
     "name": "stdout",
     "output_type": "stream",
     "text": [
      "1688280909.0218365\n",
      "1688280909.0228393\n",
      "0.0010027885437011719\n",
      "Execution time: 0.00100 seconds\n"
     ]
    }
   ],
   "source": [
    "#Implement a decorator function called ‘timer’ that measures the execution time of a function. The ‘timer’ decorator should print the time taken by the decorated function to execute. Use the ‘time’ module in Python to calculate the execution time.\n",
    "\n",
    "import time\n",
    "\n",
    "def timer(func):\n",
    "    def wrapper(*args, **kwargs):\n",
    "        start_time = time.time()  # Record the start time before executing the function\n",
    "        print(start_time)\n",
    "        result = func(*args, **kwargs)  # Execute the decorated function\n",
    "        end_time = time.time()  # Record the end time after executing the function\n",
    "        print(end_time)\n",
    "        execution_time = end_time - start_time  # Calculate the execution time\n",
    "        print(execution_time)\n",
    "        print(f\"Execution time: {execution_time:.5f} seconds\")  # Print the execution time\n",
    "        return result\n",
    "    return wrapper\n",
    "\n",
    "@timer\n",
    "def addition(n,m):\n",
    "    a=n+m\n",
    "    return a\n",
    "    time.sleep(2)\n",
    "\n",
    "a=addition(54444,433434)\n",
    "\n"
   ]
  },
  {
   "cell_type": "code",
   "execution_count": null,
   "id": "ad0347c2",
   "metadata": {},
   "outputs": [],
   "source": []
  }
 ],
 "metadata": {
  "kernelspec": {
   "display_name": "Python 3 (ipykernel)",
   "language": "python",
   "name": "python3"
  },
  "language_info": {
   "codemirror_mode": {
    "name": "ipython",
    "version": 3
   },
   "file_extension": ".py",
   "mimetype": "text/x-python",
   "name": "python",
   "nbconvert_exporter": "python",
   "pygments_lexer": "ipython3",
   "version": "3.9.12"
  }
 },
 "nbformat": 4,
 "nbformat_minor": 5
}
