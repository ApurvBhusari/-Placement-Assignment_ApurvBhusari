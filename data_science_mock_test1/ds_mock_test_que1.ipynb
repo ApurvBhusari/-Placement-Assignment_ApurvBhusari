{
 "cells": [
  {
   "cell_type": "code",
   "execution_count": 7,
   "id": "261e2d7d",
   "metadata": {},
   "outputs": [],
   "source": [
    "#Write a function that takes a list of numbers as input and returns a new list containing only the even numbers from the input list. Use list comprehension to solve this problem.\n",
    "\n",
    "def list_of_numbers(numbers):\n",
    "    return [num for num in numbers if num % 2 == 0]\n"
   ]
  }
 ],
 "metadata": {
  "kernelspec": {
   "display_name": "Python 3 (ipykernel)",
   "language": "python",
   "name": "python3"
  },
  "language_info": {
   "codemirror_mode": {
    "name": "ipython",
    "version": 3
   },
   "file_extension": ".py",
   "mimetype": "text/x-python",
   "name": "python",
   "nbconvert_exporter": "python",
   "pygments_lexer": "ipython3",
   "version": "3.9.12"
  }
 },
 "nbformat": 4,
 "nbformat_minor": 5
}
