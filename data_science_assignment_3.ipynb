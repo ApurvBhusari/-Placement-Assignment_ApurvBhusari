{
 "cells": [
  {
   "cell_type": "code",
   "execution_count": null,
   "id": "368355a7",
   "metadata": {},
   "outputs": [],
   "source": [
    "# 1. calculate the mean sales for each region, you need to find the average of the sales data for each region. \n",
    "\n",
    "For Region A: [10, 15, 12, 8, 14]\n",
    "Mean = (10 + 15 + 12 + 8 + 14) / 5 = 59 / 5 = 11.8\n",
    "\n",
    "For Region B: [18, 20, 16, 22, 25]\n",
    "Mean = (18 + 20 + 16 + 22 + 25) / 5 = 101 / 5 = 20.2\n",
    "\n",
    "Therefore, the mean sales for Region A is 11.8 and for Region B is 20.2.\n",
    "\n"
   ]
  },
  {
   "cell_type": "code",
   "execution_count": null,
   "id": "19972d10",
   "metadata": {},
   "outputs": [],
   "source": [
    "# 2. calculate the mode of the survey responses, you need to find the value that appears most frequently in the data.\n",
    "\n",
    "Survey responses: [4, 5, 2, 3, 5, 4, 3, 2, 4, 5]\n",
    "The mode is the value that appears most frequently, which in this case is 4.\n",
    "\n",
    "Therefore, the mode of the survey responses is 4.\n",
    "\n"
   ]
  },
  {
   "cell_type": "code",
   "execution_count": null,
   "id": "60ed3b33",
   "metadata": {},
   "outputs": [],
   "source": [
    "# 3. calculate the median salary for each department, you need to arrange the salary data in ascending order and find the middle value.\n",
    "\n",
    "For Department A: [5000, 6000, 5500, 7000]\n",
    "Arranged in ascending order: [5000, 5500, 6000, 7000]\n",
    "The median is the middle value, which is 5500.\n",
    "\n",
    "For Department B: [4500, 5500, 5800, 6000, 5200]\n",
    "Arranged in ascending order: [4500, 5200, 5500, 5800, 6000]\n",
    "The median is the middle value, which is 5500.\n",
    "\n",
    "Therefore, the median salary for Department A and Department B is 5500.\n",
    "\n"
   ]
  },
  {
   "cell_type": "code",
   "execution_count": null,
   "id": "9759f9da",
   "metadata": {},
   "outputs": [],
   "source": [
    "# 4. calculate the range of the stock prices, you need to find the difference between the maximum and minimum values.\n",
    "\n",
    "Stock prices: [25.5, 24.8, 26.1, 25.3, 24.9]\n",
    "Range = maximum value - minimum value\n",
    "Range = 26.1 - 24.8 = 1.3\n",
    "\n",
    "Therefore, the range of the stock prices is 1.3.\n",
    "\n"
   ]
  },
  {
   "cell_type": "code",
   "execution_count": null,
   "id": "d22f4aad",
   "metadata": {},
   "outputs": [],
   "source": [
    "# 5. perform a t-test to determine if there is a significant difference in the mean scores between the two groups, you can use a statistical software or calculator. Here's the general procedure:\n",
    "\n",
    "Step 1: Calculate the means and standard deviations for both groups.\n",
    "Group A: [85, 90, 92, 88, 91]\n",
    "Mean A = (85 + 90 + 92 + 88 + 91) / 5 = 446 / 5 = 89.2\n",
    "Standard Deviation A = sqrt(((85-89.2)^2 + (90-89.2)^2 + (92-89.2)^2 + (88-89.2)^2 + (91-89.2)^2) / 4) ≈ 2.24\n",
    "\n",
    "Group B: [82, 88, 90, 86, 87]\n",
    "Mean B = (82 + 88 + 90 + 86 + 87) / 5 = 433 / 5 = 86.6\n",
    "Standard Deviation B = sqrt(((82-86.6)^2 + (88-86.6)^2 + (90-86.6)^2 + (86-86.6)^2 + (87-86.6)^2) / 4) ≈ 2.60\n",
    "\n",
    "Step 2: Perform the t-test using the means, standard deviations, and sample sizes.\n",
    "You would need to input these values into a t-test calculator or use statistical software to obtain the p-value.\n",
    "\n",
    "The resulting p-value will indicate whether there is a significant difference in the mean scores between the two groups. Typically, if the p-value is less than a predetermined significance level (e.g., 0.05), it suggests a significant difference.\n",
    "\n"
   ]
  },
  {
   "cell_type": "code",
   "execution_count": null,
   "id": "b8242fb1",
   "metadata": {},
   "outputs": [],
   "source": [
    "# 6. calculate the correlation coefficient between advertising expenditure and sales, you can use the Pearson correlation coefficient formula. Here's the calculation:\n",
    "\n",
    "Advertising Expenditure (in thousands): [10, 15, 12, 8, 14]\n",
    "Sales (in thousands): [25, 30, 28, 20, 26]\n",
    "\n",
    "Step 1: Calculate the means for both variables.\n",
    "Mean of Advertising Expenditure = (10 + 15 + 12 + 8 + 14) / 5 = 59 / 5 = 11.8\n",
    "Mean of Sales = (25 + 30 + 28 + 20 + 26) / 5 = 129 / 5 = 25.8\n",
    "\n",
    "Step 2: Calculate the differences from the means for both variables.\n",
    "Differences for Advertising Expenditure = [10 - 11.8, 15 - 11.8, 12 - 11.8, 8 - 11.8, 14 - 11.8] = [-1.8, 3.2, 0.2, -3.8, 2.2]\n",
    "Differences for Sales = [25 - 25.8, 30 - 25.8, 28 - 25.8, 20 - 25.8, 26 - 25.8] = [-0.8, 4.2, 2.2, -5.8, 0.2]\n",
    "\n",
    "Step 3: Calculate the product of the differences for both variables.\n",
    "Product of Differences = [-1.8 * -0.8, 3.2 * 4.2, 0.2 * 2.2, -3.8 * -5.8, 2.2 * 0.2] = [1.44, 13.44, 0.44, 22.04, 0.44]\n",
    "\n",
    "Step 4: Calculate the sum of the product of differences.\n",
    "Sum of Product of Differences = 1.44 + 13.44 + 0.44 + 22.04 + 0.44 = 37.8\n",
    "\n",
    "Step 5: Calculate the standard deviations for both variables.\n",
    "Standard Deviation of Advertising Expenditure = sqrt(((10-11.8)^2 + (15-11.8)^2 + (12-11.8)^2 + (8-11.8)^2 + (14-11.8)^2) / 4) ≈ 2.24\n",
    "Standard Deviation of Sales = sqrt(((25-25.8)^2 + (30-25.8)^2 + (28-25.8)^2 + (20-25.8)^2 + (26-25.8)^2) / 4) ≈ 2.24\n",
    "\n",
    "Step 6: Calculate the correlation coefficient using the formula.\n",
    "Correlation Coefficient = (Sum of Product of Differences) / (Standard Deviation of Advertising Expenditure * Standard Deviation of Sales)\n",
    "Correlation Coefficient = 37.8 / (2.24 * 2.24) ≈ 37.8 / 5 ≈ 7.56\n",
    "\n",
    "Therefore, the correlation coefficient between advertising expenditure and sales is approximately 7.56."
   ]
  },
  {
   "cell_type": "code",
   "execution_count": null,
   "id": "5cf0ecf6",
   "metadata": {},
   "outputs": [],
   "source": [
    " # 7 calculate the standard deviation of the heights, you can use the formula for population standard deviation. However, since the data provided seems to represent a sample, we will use the formula for sample standard deviation. Here's the calculation:\n",
    "Heights: [160, 170, 165, 155, 175, 180, 170]\n",
    "\n",
    "Step 1: Calculate the mean of the heights.\n",
    "Mean = (160 + 170 + 165 + 155 + 175 + 180 + 170) / 7 = 1175 / 7 ≈ 167.86\n",
    "\n",
    "Step 2: Calculate the differences from the mean for each height.\n",
    "Differences = [160 - 167.86, 170 - 167.86, 165 - 167.86, 155 - 167.86, 175 - 167.86, 180 - 167.86, 170 - 167.86] ≈ [-7.86, 2.14, -2.86, -12.86, 7.14, 12.14, 2.14]\n",
    "\n",
    "Step 3: Square each difference.\n",
    "Squared Differences = [(-7.86)^2, 2.14^2, (-2.86)^2, (-12.86)^2, 7.14^2, 12.14^2, 2.14^2] ≈ [61.67, 4.58, 8.21, 165.33, 51.06, 147.93, 4.58]\n",
    "\n",
    "Step 4: Calculate the sum of the squared differences.\n",
    "Sum of Squared Differences = 61.67 + 4.58 + 8.21 + 165.33 + 51.06 + 147.93 + 4.58 ≈ 443.36\n",
    "\n",
    "Step 5: Calculate the variance by dividing the sum of squared differences by (n-1), where n is the sample size.\n",
    "Variance = Sum of Squared Differences / (n-1) = 443.36 / (7-1) ≈ 73.89\n",
    "\n",
    "Step 6: Calculate the sample standard deviation by taking the square root of the variance.\n",
    "Standard Deviation = sqrt(Variance) ≈ sqrt(73.89) ≈ 8.60\n",
    "\n",
    "Therefore, the standard deviation of the heights is approximately 8.60.\n",
    "\n",
    "To perform a linear regression analysis to predict job satisfaction based on employee tenure, you can use statistical software or calculators that provide regression analysis. The analysis will provide you with the regression equation, \n",
    "coefficient estimates, and statistical significance of the relationship between employee tenure and job satisfaction.\n",
    "\n",
    "\n",
    "\n",
    "\n"
   ]
  },
  {
   "cell_type": "code",
   "execution_count": 1,
   "id": "f28ea988",
   "metadata": {},
   "outputs": [
    {
     "name": "stdout",
     "output_type": "stream",
     "text": [
      "Regression Equation: Job Satisfaction = 8.60 + -0.47 * Employee Tenure\n",
      "P-value: 0.2310\n"
     ]
    }
   ],
   "source": [
    "#8. Scenario: A company wants to analyze the relationship between employee tenure and job satisfaction. The data collected is as follows:\n",
    " #  Employee Tenure (in years): [2, 3, 5, 4, 6, 2, 4]\n",
    "  # Job Satisfaction (on a scale of 1 to 10): [7, 8, 6, 9, 5, 7, 6]\n",
    "  # Perform a linear regression analysis to predict job satisfaction based on employee tenure.\n",
    "import numpy as np\n",
    "import statsmodels.api as sm\n",
    "\n",
    "employee_tenure = [2, 3, 5, 4, 6, 2, 4]\n",
    "job_satisfaction = [7, 8, 6, 9, 5, 7, 6]\n",
    "\n",
    "# Add a constant term to the independent variable (employee tenure)\n",
    "X = sm.add_constant(employee_tenure)\n",
    "\n",
    "# Fit the linear regression model\n",
    "model = sm.OLS(job_satisfaction, X)\n",
    "results = model.fit()\n",
    "\n",
    "# Get the coefficient estimates and other statistics\n",
    "intercept, slope = results.params\n",
    "p_value = results.pvalues[1]\n",
    "\n",
    "# Print the regression equation and statistics\n",
    "print(f\"Regression Equation: Job Satisfaction = {intercept:.2f} + {slope:.2f} * Employee Tenure\")\n",
    "print(f\"P-value: {p_value:.4f}\")\n",
    "\n",
    "\n"
   ]
  },
  {
   "cell_type": "code",
   "execution_count": 2,
   "id": "549885d9",
   "metadata": {},
   "outputs": [
    {
     "name": "stdout",
     "output_type": "stream",
     "text": [
      "F-value: 16.00\n",
      "P-value: 0.0039\n"
     ]
    }
   ],
   "source": [
    "#9. Scenario: A study is conducted to compare the effectiveness of two different medications. The recovery times of the patients in each group are as follows:\n",
    " #  Medication A: [10, 12, 14, 11, 13]\n",
    "  # Medication B: [15, 17, 16, 14, 18]\n",
    " #  Perform an analysis of variance (ANOVA) to determine if there is a significant difference in the mean recovery times between the two medications.\n",
    "\n",
    "import scipy.stats as stats\n",
    "\n",
    "medication_a = [10, 12, 14, 11, 13]\n",
    "medication_b = [15, 17, 16, 14, 18]\n",
    "\n",
    "# Perform one-way ANOVA\n",
    "f_value, p_value = stats.f_oneway(medication_a, medication_b)\n",
    "\n",
    "# Print the results\n",
    "print(f\"F-value: {f_value:.2f}\")\n",
    "print(f\"P-value: {p_value:.4f}\")\n"
   ]
  },
  {
   "cell_type": "code",
   "execution_count": 3,
   "id": "5d748522",
   "metadata": {},
   "outputs": [
    {
     "name": "stdout",
     "output_type": "stream",
     "text": [
      "The 75th percentile of the feedback ratings is: 8.75\n"
     ]
    }
   ],
   "source": [
    "#10. Scenario: A company wants to analyze customer feedback ratings on a scale of 1 to 10. The data collected is\n",
    "#as follows:\n",
    " #   [8, 9, 7, 6, 8, 10, 9, 8, 7, 8]\n",
    " #   Calculate the 75th percentile of the feedback ratings.\n",
    "\n",
    "import numpy as np\n",
    "\n",
    "feedback_ratings = [8, 9, 7, 6, 8, 10, 9, 8, 7, 8]\n",
    "\n",
    "# Calculate the 75th percentile\n",
    "percentile_75 = np.percentile(feedback_ratings, 75)\n",
    "\n",
    "# Print the result\n",
    "print(f\"The 75th percentile of the feedback ratings is: {percentile_75}\")\n"
   ]
  },
  {
   "cell_type": "code",
   "execution_count": 5,
   "id": "c7c266a1",
   "metadata": {},
   "outputs": [
    {
     "name": "stdout",
     "output_type": "stream",
     "text": [
      "T-statistic: 1.51\n",
      "P-value: 0.1908\n"
     ]
    }
   ],
   "source": [
    "#11. Scenario: A quality control department wants to test the weight consistency of a product. The weights of a sample of products are as follows:\n",
    " #   [10.2, 9.8, 10.0, 10.5, 10.3, 10.1]\n",
    " #   Performimport scipy.stats as stats\n",
    "\n",
    "weights = [10.2, 9.8, 10.0, 10.5, 10.3, 10.1]\n",
    "\n",
    "# Perform one-sample t-test\n",
    "t_statistic, p_value = stats.ttest_1samp(weights, 10)\n",
    "\n",
    "# Print the results\n",
    "print(f\"T-statistic: {t_statistic:.2f}\")\n",
    "print(f\"P-value: {p_value:.4f}\")\n",
    " \n",
    "\n"
   ]
  },
  {
   "cell_type": "code",
   "execution_count": 13,
   "id": "fd03381e",
   "metadata": {},
   "outputs": [
    {
     "name": "stdout",
     "output_type": "stream",
     "text": [
      "Chi-square statistic: 12.98\n",
      "P-value: 0.1635\n"
     ]
    }
   ],
   "source": [
    "import numpy as np\n",
    "import scipy.stats as stats\n",
    "\n",
    "design_a = [100, 120, 110, 90, 95]\n",
    "design_b = [80, 85, 90, 95, 100]\n",
    "\n",
    "# Create the observed frequency table\n",
    "observed_freq = np.array([design_a, design_b])\n",
    "\n",
    "# Perform chi-square test\n",
    "chi2_statistic, p_value = stats.chisquare(observed_freq, axis=None)\n",
    "\n",
    "# Print the results\n",
    "print(f\"Chi-square statistic: {chi2_statistic:.2f}\")\n",
    "print(f\"P-value: {p_value:.4f}\")\n"
   ]
  },
  {
   "cell_type": "code",
   "execution_count": 7,
   "id": "6b5c7673",
   "metadata": {},
   "outputs": [
    {
     "name": "stdout",
     "output_type": "stream",
     "text": [
      "The 95% confidence interval for the population mean satisfaction score is: (7.043561120599888, 8.756438879400113)\n"
     ]
    }
   ],
   "source": [
    "#13. Scenario: A survey is conducted to measure customer satisfaction with a product on a scale of 1 to 10. The data collected is as follows:\n",
    "#    [7, 9, 6, 8, 10, 7, 8, 9, 7, 8]\n",
    "#    Calculate the 95% confidence interval for the population mean satisfaction score.\n",
    "\n",
    "import numpy as np\n",
    "import scipy.stats as stats\n",
    "\n",
    "satisfaction_scores = [7, 9, 6, 8, 10, 7, 8, 9, 7, 8]\n",
    "\n",
    "# Calculate the sample mean and standard deviation\n",
    "sample_mean = np.mean(satisfaction_scores)\n",
    "sample_std = np.std(satisfaction_scores, ddof=1)\n",
    "\n",
    "# Calculate the standard error of the mean\n",
    "std_error = sample_std / np.sqrt(len(satisfaction_scores))\n",
    "\n",
    "# Calculate the margin of error\n",
    "margin_of_error = stats.t.ppf(0.975, df=len(satisfaction_scores)-1) * std_error\n",
    "\n",
    "# Calculate the confidence interval\n",
    "confidence_interval = (sample_mean - margin_of_error, sample_mean + margin_of_error)\n",
    "\n",
    "# Print the result\n",
    "print(f\"The 95% confidence interval for the population mean satisfaction score is: {confidence_interval}\")\n"
   ]
  },
  {
   "cell_type": "code",
   "execution_count": 8,
   "id": "4677810b",
   "metadata": {},
   "outputs": [
    {
     "name": "stdout",
     "output_type": "stream",
     "text": [
      "Regression Equation: Performance = -2.90 + 0.50 * Temperature\n",
      "P-value: 0.1942\n"
     ]
    }
   ],
   "source": [
    "#14. Scenario: A company wants to analyze the effect of temperature on product performance. The data collected is as follows:\n",
    " #   Temperature (in degrees Celsius): [20, 22, 23, 19, 21]\n",
    " #   Performance (on a scale of 1 to 10): [8, 7, 9, 6, 8]\n",
    " #   Perform a simple linear regression to predict performance based on temperature.\n",
    "\n",
    "import numpy as np\n",
    "import statsmodels.api as sm\n",
    "\n",
    "temperature = [20, 22, 23, 19, 21]\n",
    "performance = [8, 7, 9, 6, 8]\n",
    "\n",
    "# Add a constant term to the independent variable (temperature)\n",
    "X = sm.add_constant(temperature)\n",
    "\n",
    "# Fit the linear regression model\n",
    "model = sm.OLS(performance, X)\n",
    "results = model.fit()\n",
    "\n",
    "# Get the coefficient estimates and other statistics\n",
    "intercept, slope = results.params\n",
    "p_value = results.pvalues[1]\n",
    "\n",
    "# Print the regression equation and statistics\n",
    "print(f\"Regression Equation: Performance = {intercept:.2f} + {slope:.2f} * Temperature\")\n",
    "print(f\"P-value: {p_value:.4f}\")\n"
   ]
  },
  {
   "cell_type": "code",
   "execution_count": 9,
   "id": "25386acf",
   "metadata": {},
   "outputs": [
    {
     "name": "stdout",
     "output_type": "stream",
     "text": [
      "Mann-Whitney U statistic: 17.00\n",
      "P-value: 0.3808\n"
     ]
    }
   ],
   "source": [
    "#15. Scenario: A study is conducted to compare the preferences of two groups of participants. The preferences are measured on a Likert scale from 1 to 5. The data collected is as follows:\n",
    " #   Group A: [4, 3, 5, 2, 4]\n",
    " #   Group B: [3, 2, 4, 3, 3]\n",
    " #   Perform a Mann-Whitney U test to determine if there is a significant difference in the median preferences between the two groups.\n",
    "\n",
    "import scipy.stats as stats\n",
    "\n",
    "group_a = [4, 3, 5, 2, 4]\n",
    "group_b = [3, 2, 4, 3, 3]\n",
    "\n",
    "# Perform Mann-Whitney U test\n",
    "statistic, p_value = stats.mannwhitneyu(group_a, group_b)\n",
    "\n",
    "# Print the results\n",
    "print(f\"Mann-Whitney U statistic: {statistic:.2f}\")\n",
    "print(f\"P-value: {p_value:.4f}\")\n"
   ]
  },
  {
   "cell_type": "code",
   "execution_count": 10,
   "id": "17e6a38b",
   "metadata": {},
   "outputs": [
    {
     "name": "stdout",
     "output_type": "stream",
     "text": [
      "The interquartile range (IQR) of the customer ages is: 22.5\n"
     ]
    }
   ],
   "source": [
    "#16. Scenario: A company wants to analyze the distribution of customer ages. The data collected is as follows:\n",
    "#    [25, 30, 35, 40, 45, 50, 55, 60, 65, 70]\n",
    "#    Calculate the interquartile range (IQR) of the ages.\n",
    "\n",
    "import numpy as np\n",
    "\n",
    "customer_ages = [25, 30, 35, 40, 45, 50, 55, 60, 65, 70]\n",
    "\n",
    "# Calculate the first quartile (25th percentile)\n",
    "q1 = np.percentile(customer_ages, 25)\n",
    "\n",
    "# Calculate the third quartile (75th percentile)\n",
    "q3 = np.percentile(customer_ages, 75)\n",
    "\n",
    "# Calculate the interquartile range\n",
    "iqr = q3 - q1\n",
    "\n",
    "# Print the result\n",
    "print(f\"The interquartile range (IQR) of the customer ages is: {iqr}\")\n"
   ]
  },
  {
   "cell_type": "code",
   "execution_count": 11,
   "id": "78390d08",
   "metadata": {},
   "outputs": [
    {
     "name": "stdout",
     "output_type": "stream",
     "text": [
      "Kruskal-Wallis statistic: 9.70\n",
      "P-value: 0.0078\n"
     ]
    }
   ],
   "source": [
    "#17. Scenario: A study is conducted to compare the performance of three different machine learning algorithms. The accuracy scores for each algorithm are as follows:\n",
    " #   Algorithm A: [0.85, 0.80, 0.82, 0.87, 0.83]\n",
    " #   Algorithm B: [0.78, 0.82, 0.84, 0.80, 0.79]\n",
    " #   Algorithm C: [0.90, 0.88, 0.89, 0.86, 0.87]\n",
    " #   Perform a Kruskal-Wallis test to determine if there is a significant difference in the median accuracy scores between the algorithms.\n",
    "\n",
    "\n",
    "import scipy.stats as stats\n",
    "\n",
    "algorithm_a = [0.85, 0.80, 0.82, 0.87, 0.83]\n",
    "algorithm_b = [0.78, 0.82, 0.84, 0.80, 0.79]\n",
    "algorithm_c = [0.90, 0.88, 0.89, 0.86, 0.87]\n",
    "\n",
    "# Perform Kruskal-Wallis test\n",
    "statistic, p_value = stats.kruskal(algorithm_a, algorithm_b, algorithm_c)\n",
    "\n",
    "# Print the results\n",
    "print(f\"Kruskal-Wallis statistic: {statistic:.2f}\")\n",
    "print(f\"P-value: {p_value:.4f}\")\n"
   ]
  },
  {
   "cell_type": "code",
   "execution_count": 14,
   "id": "3265e4f9",
   "metadata": {},
   "outputs": [
    {
     "name": "stdout",
     "output_type": "stream",
     "text": [
      "Regression Equation: Sales = 136.37 + -3.51 * Price\n",
      "P-value: 0.0385\n"
     ]
    }
   ],
   "source": [
    "import numpy as np\n",
    "import statsmodels.api as sm\n",
    "\n",
    "price = [10, 15, 12, 8, 14]\n",
    "sales = [100, 80, 90, 110, 95]\n",
    "\n",
    "# Add a constant term to the independent variable (price)\n",
    "X = sm.add_constant(price)\n",
    "\n",
    "# Fit the linear regression model\n",
    "model = sm.OLS(sales, X)\n",
    "results = model.fit()\n",
    "\n",
    "# Get the coefficient estimates and other statistics\n",
    "intercept, slope = results.params\n",
    "p_value = results.pvalues[1]\n",
    "\n",
    "# Print the regression equation and statistics\n",
    "print(f\"Regression Equation: Sales = {intercept:.2f} + {slope:.2f} * Price\")\n",
    "print(f\"P-value: {p_value:.4f}\")\n"
   ]
  },
  {
   "cell_type": "code",
   "execution_count": 15,
   "id": "16b41103",
   "metadata": {},
   "outputs": [
    {
     "name": "stdout",
     "output_type": "stream",
     "text": [
      "The standard error of the mean satisfaction score is: 0.3055\n"
     ]
    }
   ],
   "source": [
    "import numpy as np\n",
    "\n",
    "satisfaction_scores = [7, 8, 9, 6, 8, 7, 9, 7, 8, 7]\n",
    "\n",
    "# Calculate the standard deviation\n",
    "std_dev = np.std(satisfaction_scores, ddof=1)\n",
    "\n",
    "# Calculate the standard error of the mean\n",
    "std_error = std_dev / np.sqrt(len(satisfaction_scores))\n",
    "\n",
    "# Print the result\n",
    "print(f\"The standard error of the mean satisfaction score is: {std_error:.4f}\")\n"
   ]
  },
  {
   "cell_type": "code",
   "execution_count": 16,
   "id": "6002bc4c",
   "metadata": {},
   "outputs": [
    {
     "name": "stdout",
     "output_type": "stream",
     "text": [
      "Regression Equation: Sales = 12.20 + 1.15 * Advertising Expenditure\n",
      "P-value: 0.0516\n"
     ]
    }
   ],
   "source": [
    "import numpy as np\n",
    "import statsmodels.api as sm\n",
    "\n",
    "advertising_expenditure = [10, 15, 12, 8, 14]\n",
    "sales = [25, 30, 28, 20, 26]\n",
    "\n",
    "# Create the design matrix by adding a constant term to the independent variable\n",
    "X = sm.add_constant(advertising_expenditure)\n",
    "\n",
    "# Fit the multiple regression model\n",
    "model = sm.OLS(sales, X)\n",
    "results = model.fit()\n",
    "\n",
    "# Get the coefficient estimates and other statistics\n",
    "intercept, slope = results.params\n",
    "p_value = results.pvalues[1]\n",
    "\n",
    "# Print the regression equation and statistics\n",
    "print(f\"Regression Equation: Sales = {intercept:.2f} + {slope:.2f} * Advertising Expenditure\")\n",
    "print(f\"P-value: {p_value:.4f}\")\n"
   ]
  },
  {
   "cell_type": "code",
   "execution_count": null,
   "id": "28238264",
   "metadata": {},
   "outputs": [],
   "source": []
  }
 ],
 "metadata": {
  "kernelspec": {
   "display_name": "Python 3 (ipykernel)",
   "language": "python",
   "name": "python3"
  },
  "language_info": {
   "codemirror_mode": {
    "name": "ipython",
    "version": 3
   },
   "file_extension": ".py",
   "mimetype": "text/x-python",
   "name": "python",
   "nbconvert_exporter": "python",
   "pygments_lexer": "ipython3",
   "version": "3.9.12"
  }
 },
 "nbformat": 4,
 "nbformat_minor": 5
}
