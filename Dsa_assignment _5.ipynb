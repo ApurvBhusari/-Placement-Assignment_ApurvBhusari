{
 "cells": [
  {
   "cell_type": "code",
   "execution_count": 7,
   "id": "41c1f486",
   "metadata": {},
   "outputs": [
    {
     "name": "stdout",
     "output_type": "stream",
     "text": [
      "[[1, 2], [3, 4]]\n"
     ]
    }
   ],
   "source": [
    "# **Question 1**\n",
    "\n",
    "#Convert 1D Array Into 2D Array\n",
    "\n",
    "#You are given a **0-indexed** 1-dimensional (1D) integer array original, and two integers, m and n. You are tasked with creating a 2-dimensional (2D) array with  m rows and n columns using **all** the elements from original.\n",
    "\n",
    "#The elements from indices 0 to n - 1 (**inclusive**) of original should form the first row of the constructed 2D array, the elements from indices n to 2 * n - 1 (**inclusive**) should form the second row of the constructed 2D array, and so on.\n",
    "\n",
    "#Return *an* m x n *2D array constructed according to the above procedure, or an empty 2D array if it is impossible*.\n",
    "\n",
    "class ArrayConverter:\n",
    "    def __init__(self, original, m, n):\n",
    "        self.original = original\n",
    "        self.m = m\n",
    "        self.n = n\n",
    "    \n",
    "    def convert_to_2d_array(self):\n",
    "        if len(self.original) % self.n != 0:\n",
    "            return []\n",
    "        \n",
    "        rows_count = len(self.original) // self.n\n",
    "        if rows_count != self.m:\n",
    "            return []\n",
    "        \n",
    "        result = []\n",
    "        for i in range(0, len(self.original), self.n):\n",
    "            result.append(self.original[i:i+self.n])\n",
    "        \n",
    "        return result\n",
    "\n",
    "original = [1, 2, 3, 4]\n",
    "m = 2\n",
    "n = 2\n",
    "\n",
    "converter = ArrayConverter(original, m, n)\n",
    "result = converter.convert_to_2d_array()\n",
    "print(result)\n",
    "\n"
   ]
  },
  {
   "cell_type": "code",
   "execution_count": 9,
   "id": "902540f6",
   "metadata": {},
   "outputs": [
    {
     "name": "stdout",
     "output_type": "stream",
     "text": [
      "2\n"
     ]
    }
   ],
   "source": [
    "#You have n coins and you want to build a staircase with these coins. The staircase consists of k rows where the ith row has exactly i coins. The last row of the staircase **may be** incomplete.\n",
    "\n",
    "#Given the integer n, return *the number of **complete rows** of the staircase you will build*.\n",
    "\n",
    "#**Example 1:**\n",
    "#**Input:** n = 5\n",
    "\n",
    "#**Output:** 2\n",
    "\n",
    "#**Explanation:** Because the 3rd row is incomplete, we return 2.\n",
    "\n",
    "class RowCounter:\n",
    "    def __init__(self, n):\n",
    "        self.n = n\n",
    "\n",
    "    def count_complete_rows(self):\n",
    "        complete_rows = 0\n",
    "        coins = self.n\n",
    "        row = 1\n",
    "\n",
    "        while coins >= row:\n",
    "            complete_rows += 1\n",
    "            coins -= row\n",
    "            row += 1\n",
    "\n",
    "        return complete_rows\n",
    "\n",
    "n = 5\n",
    "counter = RowCounter(n)\n",
    "result = counter.count_complete_rows()\n",
    "print(result)\n"
   ]
  },
  {
   "cell_type": "code",
   "execution_count": 10,
   "id": "9e3a97ef",
   "metadata": {},
   "outputs": [
    {
     "name": "stdout",
     "output_type": "stream",
     "text": [
      "[0, 1, 9, 16, 100]\n"
     ]
    }
   ],
   "source": [
    "#3\n",
    "#Given an integer array nums sorted in **non-decreasing** order, return *an array of **the squares of each number** sorted in non-decreasing order*.\n",
    "\n",
    "#**Example 1:**\n",
    "\n",
    "#**Input:** nums = [-4,-1,0,3,10]\n",
    "\n",
    "#**Output:** [0,1,9,16,100]\n",
    "\n",
    "#**Explanation:** After squaring, the array becomes [16,1,0,9,100].\n",
    "\n",
    "#After sorting, it becomes [0,1,9,16,100].\n",
    "\n",
    "class SquareSorter:\n",
    "    def __init__(self, nums):\n",
    "        self.nums = nums\n",
    "    \n",
    "    def sorted_squares(self):\n",
    "        n = len(self.nums)\n",
    "        squared_nums = [0] * n\n",
    "\n",
    "        left = 0\n",
    "        right = n - 1\n",
    "        index = n - 1\n",
    "\n",
    "        while left <= right:\n",
    "            left_square = self.nums[left] * self.nums[left]\n",
    "            right_square = self.nums[right] * self.nums[right]\n",
    "\n",
    "            if left_square > right_square:\n",
    "                squared_nums[index] = left_square\n",
    "                left += 1\n",
    "            else:\n",
    "                squared_nums[index] = right_square\n",
    "                right -= 1\n",
    "            \n",
    "            index -= 1\n",
    "        \n",
    "        return squared_nums\n",
    "nums = [-4, -1, 0, 3, 10]\n",
    "\n",
    "sorter = SquareSorter(nums)\n",
    "result = sorter.sorted_squares()\n",
    "print(result)\n",
    "\n"
   ]
  },
  {
   "cell_type": "code",
   "execution_count": 11,
   "id": "74ba71e6",
   "metadata": {},
   "outputs": [
    {
     "name": "stdout",
     "output_type": "stream",
     "text": [
      "[[1, 3], [4, 6]]\n"
     ]
    }
   ],
   "source": [
    "#4\n",
    "#**Question 4**\n",
    "\n",
    "#Given two **0-indexed** integer arrays nums1 and nums2, return *a list* answer *of size* 2 *where:*\n",
    "\n",
    "#- answer[0] *is a list of all **distinct** integers in* nums1 *which are **not** present in* nums2*.*\n",
    "#- answer[1] *is a list of all **distinct** integers in* nums2 *which are **not** present in* nums1.\n",
    "\n",
    "#**Note** that the integers in the lists may be returned in **any** order.\n",
    "\n",
    "#**Example 1:**\n",
    "\n",
    "#**Input:** nums1 = [1,2,3], nums2 = [2,4,6]\n",
    "\n",
    "#**Output:** [[1,3],[4,6]]\n",
    "\n",
    "#**Explanation:**\n",
    "\n",
    "#For nums1, nums1[1] = 2 is present at index 0 of nums2, whereas nums1[0] = 1 and nums1[2] = 3 are not present in nums2. Therefore, answer[0] = [1,3].\n",
    "\n",
    "#For nums2, nums2[0] = 2 is present at index 1 of nums1, whereas nums2[1] = 4 and nums2[2] = 6 are not present in nums2. Therefore, answer[1] = [4,6].\n",
    "\n",
    "class DisjointNumsFinder:\n",
    "    def __init__(self, nums1, nums2):\n",
    "        self.nums1 = nums1\n",
    "        self.nums2 = nums2\n",
    "    \n",
    "    def find_disjoint_nums(self):\n",
    "        set1 = set(self.nums1)\n",
    "        set2 = set(self.nums2)\n",
    "\n",
    "        answer1 = list(set1 - set2)\n",
    "        answer2 = list(set2 - set1)\n",
    "\n",
    "        return [answer1, answer2]\n",
    "nums1 = [1, 2, 3]\n",
    "nums2 = [2, 4, 6]\n",
    "\n",
    "finder = DisjointNumsFinder(nums1, nums2)\n",
    "result = finder.find_disjoint_nums()\n",
    "print(result)\n"
   ]
  },
  {
   "cell_type": "code",
   "execution_count": 12,
   "id": "93e4fb1f",
   "metadata": {},
   "outputs": [
    {
     "name": "stdout",
     "output_type": "stream",
     "text": [
      "2\n"
     ]
    }
   ],
   "source": [
    "#5\n",
    "#**Question 5**\n",
    "\n",
    "#Given two integer arrays arr1 and arr2, and the integer d, *return the distance value between the two arrays*.\n",
    "\n",
    "#The distance value is defined as the number of elements arr1[i] such that there is not any element arr2[j] where |arr1[i]-arr2[j]| <= d.\n",
    "\n",
    "#**Example 1:**\n",
    "\n",
    "#**Input:** arr1 = [4,5,8], arr2 = [10,9,1,8], d = 2\n",
    "\n",
    "#**Output:** 2\n",
    "\n",
    "class DistanceCalculator:\n",
    "    def __init__(self, arr1, arr2, d):\n",
    "        self.arr1 = arr1\n",
    "        self.arr2 = arr2\n",
    "        self.d = d\n",
    "    \n",
    "    def calculate_distance(self):\n",
    "        distance = 0\n",
    "\n",
    "        for num1 in self.arr1:\n",
    "            found = False\n",
    "            for num2 in self.arr2:\n",
    "                if abs(num1 - num2) <= self.d:\n",
    "                    found = True\n",
    "                    break\n",
    "            if not found:\n",
    "                distance += 1\n",
    "\n",
    "        return distance\n",
    "arr1 = [4, 5, 8]\n",
    "arr2 = [10, 9, 1, 8]\n",
    "d = 2\n",
    "\n",
    "calculator = DistanceCalculator(arr1, arr2, d)\n",
    "result = calculator.calculate_distance()\n",
    "print(result)\n"
   ]
  },
  {
   "cell_type": "code",
   "execution_count": 13,
   "id": "cb42ae6b",
   "metadata": {},
   "outputs": [
    {
     "name": "stdout",
     "output_type": "stream",
     "text": [
      "[2, 3]\n"
     ]
    }
   ],
   "source": [
    "#6\n",
    "#Given an integer array nums of length n where all the integers of nums are in the range [1, n] and each integer appears **once** or **twice**, return *an array of all the integers that appears **twice***.\n",
    "\n",
    "#You must write an algorithm that runs in O(n) time and uses only constant extra space.\n",
    "\n",
    "#**Example 1:**\n",
    "\n",
    "#**Input:** nums = [4,3,2,7,8,2,3,1]\n",
    "\n",
    "#**Output:**\n",
    "\n",
    "#[2,3]\n",
    "\n",
    "class DuplicateFinder:\n",
    "    def __init__(self, nums):\n",
    "        self.nums = nums\n",
    "    \n",
    "    def find_duplicates(self):\n",
    "        result = []\n",
    "\n",
    "        for num in self.nums:\n",
    "            idx = abs(num)\n",
    "            if self.nums[idx - 1] > 0:\n",
    "                self.nums[idx - 1] = -self.nums[idx - 1]\n",
    "            else:\n",
    "                result.append(idx)\n",
    "\n",
    "        return result\n",
    "nums = [4, 3, 2, 7, 8, 2, 3, 1]\n",
    "finder = DuplicateFinder(nums)\n",
    "result = finder.find_duplicates()\n",
    "print(result)\n"
   ]
  },
  {
   "cell_type": "code",
   "execution_count": 14,
   "id": "bcace06a",
   "metadata": {},
   "outputs": [
    {
     "name": "stdout",
     "output_type": "stream",
     "text": [
      "1\n"
     ]
    }
   ],
   "source": [
    "#7\n",
    "#Suppose an array of length n sorted in ascending order is **rotated** between 1 and n times. For example, the array nums = [0,1,2,4,5,6,7] might become:\n",
    "\n",
    "#- [4,5,6,7,0,1,2] if it was rotated 4 times.\n",
    "#- [0,1,2,4,5,6,7] if it was rotated 7 times.\n",
    "\n",
    "#Notice that **rotating** an array [a[0], a[1], a[2], ..., a[n-1]] 1 time results in the array [a[n-1], a[0], a[1], a[2], ..., a[n-2]].\n",
    "\n",
    "#Given the sorted rotated array nums of **unique** elements, return *the minimum element of this array*.\n",
    "\n",
    "#You must write an algorithm that runs in O(log n) time.\n",
    "\n",
    "#**Example 1:**\n",
    "\n",
    "#**Input:** nums = [3,4,5,1,2]\n",
    "\n",
    "#**Output:** 1\n",
    "\n",
    "#**Explanation:**\n",
    "\n",
    "#The original array was [1,2,3,4,5] rotated 3 times.\n",
    "\n",
    "class MinimumFinder:\n",
    "    def __init__(self, nums):\n",
    "        self.nums = nums\n",
    "    \n",
    "    def find_minimum(self):\n",
    "        left = 0\n",
    "        right = len(self.nums) - 1\n",
    "\n",
    "        while left < right:\n",
    "            mid = left + (right - left) // 2\n",
    "\n",
    "            if self.nums[mid] > self.nums[right]:\n",
    "                left = mid + 1\n",
    "            else:\n",
    "                right = mid\n",
    "\n",
    "        return self.nums[left]\n",
    "nums = [3, 4, 5, 1, 2]\n",
    "finder = MinimumFinder(nums)\n",
    "minimum = finder.find_minimum()\n",
    "print(minimum)\n"
   ]
  },
  {
   "cell_type": "code",
   "execution_count": 45,
   "id": "c71b3ed1",
   "metadata": {},
   "outputs": [
    {
     "name": "stdout",
     "output_type": "stream",
     "text": [
      "[]\n"
     ]
    }
   ],
   "source": [
    "#8\n",
    "#An integer array original is transformed into a **doubled** array changed by appending **twice the value** of every element in original, and then randomly **shuffling** the resulting array.\n",
    "\n",
    "#Given an array changed, return original *if* changed *is a **doubled** array. If* changed *is not a **doubled** array, return an empty array. The elements in* original *may be returned in **any** order*.\n",
    "\n",
    "#**Example 1:**\n",
    "\n",
    "#**Input:** changed = [1,3,4,2,6,8]\n",
    "\n",
    "#**Output:** [1,3,4]\n",
    "\n",
    "#**Explanation:** One possible original array could be [1,3,4]:\n",
    "\n",
    "#- Twice the value of 1 is 1 * 2 = 2.\n",
    "#- Twice the value of 3 is 3 * 2 = 6.\n",
    "#- Twice the value of 4 is 4 * 2 = 8.\n",
    "\n",
    "#Other original arrays could be [4,3,1] or [3,1,4].\n",
    "\n",
    "def find_original_array(changed):\n",
    "    counter = {}\n",
    "    for num in changed:\n",
    "        if num not in counter:\n",
    "            counter[num] = 1\n",
    "        else:\n",
    "            counter[num] += 1\n",
    "    original = []\n",
    "    for i in changed:\n",
    "        a=(2*i)\n",
    "\n",
    "        if a not in counter or counter[a] == 0:\n",
    "            return []\n",
    "        counter[a] -= 1\n",
    "        original.append(i)\n",
    "    \n",
    "    return original\n",
    "changed = [1, 3, 4, 2, 6, 8]\n",
    "original = find_original_array(changed)\n",
    "print(original)\n"
   ]
  }
 ],
 "metadata": {
  "kernelspec": {
   "display_name": "Python 3 (ipykernel)",
   "language": "python",
   "name": "python3"
  },
  "language_info": {
   "codemirror_mode": {
    "name": "ipython",
    "version": 3
   },
   "file_extension": ".py",
   "mimetype": "text/x-python",
   "name": "python",
   "nbconvert_exporter": "python",
   "pygments_lexer": "ipython3",
   "version": "3.9.12"
  }
 },
 "nbformat": 4,
 "nbformat_minor": 5
}
