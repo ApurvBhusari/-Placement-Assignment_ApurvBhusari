{
 "cells": [
  {
   "cell_type": "code",
   "execution_count": 1,
   "id": "9c0cf78c",
   "metadata": {},
   "outputs": [
    {
     "name": "stdout",
     "output_type": "stream",
     "text": [
      "True\n",
      "True\n",
      "False\n"
     ]
    }
   ],
   "source": [
    "# **Question 1**\n",
    "\n",
    "#Given an integer `n`, return *`true` if it is a power of two. Otherwise, return `false`*.\n",
    "\n",
    "#An integer `n` is a power of two, if there exists an integer `x` such that `n == 2x`.\n",
    "\n",
    "#**Example 1:**\n",
    "#Input: n = 1 \n",
    "\n",
    "#Output: true\n",
    "\n",
    "#**Example 2:**\n",
    "#Input: n = 16 \n",
    "\n",
    "#Output: true\n",
    "\n",
    "#**Example 3:**\n",
    "#Input: n = 3 \n",
    "\n",
    "#Output: false\n",
    "\n",
    "\n",
    "class PowerOfTwoChecker:\n",
    "    def isPowerOfTwo(self, n):\n",
    "        if n <= 0:\n",
    "            return False\n",
    "        elif n == 1:\n",
    "            return True\n",
    "        elif n % 2 == 0:\n",
    "            return self.isPowerOfTwo(n // 2)\n",
    "        else:\n",
    "            return False\n",
    "checker = PowerOfTwoChecker()\n",
    "print(checker.isPowerOfTwo(1))   # Output: True\n",
    "print(checker.isPowerOfTwo(16))  # Output: True\n",
    "print(checker.isPowerOfTwo(3))   # Output: False\n"
   ]
  },
  {
   "cell_type": "code",
   "execution_count": 2,
   "id": "c9ed43b6",
   "metadata": {},
   "outputs": [
    {
     "name": "stdout",
     "output_type": "stream",
     "text": [
      "6\n",
      "15\n"
     ]
    }
   ],
   "source": [
    "\n",
    "# **Question 2**\n",
    "\n",
    "#Given a number n, find the sum of the first natural numbers.\n",
    "\n",
    "#**Example 1:**\n",
    "\n",
    "#Input: n = 3 \n",
    "\n",
    "#Output: 6\n",
    "\n",
    "#**Example 2:**\n",
    "\n",
    "#Input  : 5 \n",
    "\n",
    "#Output : 15\n",
    "\n",
    "class NaturalNumberSummer:\n",
    "    def sumOfNaturalNumbers(self, n):\n",
    "        if n == 0:\n",
    "            return 0\n",
    "        else:\n",
    "            return n + self.sumOfNaturalNumbers(n - 1)\n",
    "summer = NaturalNumberSummer()\n",
    "print(summer.sumOfNaturalNumbers(3))  # Output: 6\n",
    "print(summer.sumOfNaturalNumbers(5))  # Output: 15\n"
   ]
  },
  {
   "cell_type": "code",
   "execution_count": 3,
   "id": "502f79f9",
   "metadata": {},
   "outputs": [
    {
     "name": "stdout",
     "output_type": "stream",
     "text": [
      "120\n",
      "24\n"
     ]
    }
   ],
   "source": [
    "#**Question 3**\n",
    "\n",
    "#****Given a positive integer, N. Find the factorial of N. \n",
    "\n",
    "#**Example 1:**\n",
    "\n",
    "#Input: N = 5 \n",
    "\n",
    "#Output: 120\n",
    "\n",
    "#**Example 2:**\n",
    "\n",
    "#Input: N = 4\n",
    "\n",
    "#Output: 24\n",
    "\n",
    "\n",
    "class FactorialCalculator:\n",
    "    def factorial(self, N):\n",
    "        if N == 0 or N == 1:\n",
    "            return 1\n",
    "        else:\n",
    "            return N * self.factorial(N - 1)\n",
    "calculator = FactorialCalculator()\n",
    "print(calculator.factorial(5))  # Output: 120\n",
    "print(calculator.factorial(4))  # Output: 24\n"
   ]
  },
  {
   "cell_type": "code",
   "execution_count": 4,
   "id": "d6ac3879",
   "metadata": {},
   "outputs": [
    {
     "name": "stdout",
     "output_type": "stream",
     "text": [
      "25\n",
      "32\n"
     ]
    }
   ],
   "source": [
    "\n",
    "#**Question 4**\n",
    "\n",
    "#Given a number N and a power P, the task is to find the exponent of this number raised to the given power, i.e. N^P.\n",
    "\n",
    "#**Example 1 :** \n",
    "\n",
    "#Input: N = 5, P = 2\n",
    "\n",
    "#Output: 25\n",
    "\n",
    "#**Example 2 :**\n",
    "#Input: N = 2, P = 5\n",
    "\n",
    "#Output: 32\n",
    "\n",
    "class ExponentiationCalculator:\n",
    "    def power(self, N, P):\n",
    "        if P == 0:\n",
    "            return 1\n",
    "        else:\n",
    "            return N * self.power(N, P - 1)\n",
    "calculator = ExponentiationCalculator()\n",
    "print(calculator.power(5, 2))  # Output: 25\n",
    "print(calculator.power(2, 5))  # Output: 32\n"
   ]
  },
  {
   "cell_type": "code",
   "execution_count": 5,
   "id": "e788be8b",
   "metadata": {},
   "outputs": [
    {
     "name": "stdout",
     "output_type": "stream",
     "text": [
      "8\n",
      "45\n"
     ]
    }
   ],
   "source": [
    "#**Question 5**\n",
    "\n",
    "#Given an array of integers **arr**, the task is to find maximum element of that array using recursion.\n",
    "\n",
    "#**Example 1:**\n",
    "\n",
    "#Input: arr = {1, 4, 3, -5, -4, 8, 6};\n",
    "#Output: 8\n",
    "\n",
    "#**Example 2:**\n",
    "\n",
    "#Input: arr = {1, 4, 45, 6, 10, -8};\n",
    "#Output: 45\n",
    "\n",
    "class MaxElementFinder:\n",
    "    def findMax(self, arr):\n",
    "        if len(arr) == 1:\n",
    "            return arr[0]\n",
    "        else:\n",
    "            return max(arr[0], self.findMax(arr[1:]))\n",
    "finder = MaxElementFinder()\n",
    "\n",
    "arr1 = [1, 4, 3, -5, -4, 8, 6]\n",
    "print(finder.findMax(arr1))  # Output: 8\n",
    "\n",
    "arr2 = [1, 4, 45, 6, 10, -8]\n",
    "print(finder.findMax(arr2))  # Output: 45\n",
    "\n"
   ]
  },
  {
   "cell_type": "code",
   "execution_count": 6,
   "id": "8438918b",
   "metadata": {},
   "outputs": [
    {
     "name": "stdout",
     "output_type": "stream",
     "text": [
      "6\n",
      "23\n"
     ]
    }
   ],
   "source": [
    "#**Question 6**\n",
    "\n",
    "#Given first term (a), common difference (d) and a integer N of the Arithmetic Progression series, the task is to find Nth term of the series.\n",
    "\n",
    "#**Example 1:**\n",
    "\n",
    "#Input : a = 2 d = 1 N = 5\n",
    "#Output : 6\n",
    "#The 5th term of the series is : 6\n",
    "\n",
    "#**Example 2:**\n",
    "\n",
    "#Input : a = 5 d = 2 N = 10\n",
    "#Output : 23\n",
    "#The 10th term of the series is : 23\n",
    "\n",
    "class NthTermFinder:\n",
    "    def findNthTerm(self, a, d, N):\n",
    "        if N == 1:\n",
    "            return a\n",
    "        else:\n",
    "            return self.findNthTerm(a + d, d, N - 1)\n",
    "finder = NthTermFinder()\n",
    "\n",
    "print(finder.findNthTerm(2, 1, 5))  # Output: 6\n",
    "print(finder.findNthTerm(5, 2, 10))  # Output: 23\n"
   ]
  },
  {
   "cell_type": "code",
   "execution_count": 7,
   "id": "ffa5047e",
   "metadata": {},
   "outputs": [
    {
     "name": "stdout",
     "output_type": "stream",
     "text": [
      "ABC\n",
      "ACB\n",
      "BAC\n",
      "BCA\n",
      "CBA\n",
      "CAB\n",
      "XY\n",
      "YX\n"
     ]
    }
   ],
   "source": [
    "# **Question 7**\n",
    "\n",
    "#Given a string S, the task is to write a program to print all permutations of a given string.\n",
    "\n",
    "#**Example 1:**\n",
    "\n",
    "#***Input:***\n",
    "\n",
    "#*S = “ABC”*\n",
    "\n",
    "#***Output:***\n",
    "\n",
    "#*“ABC”, “ACB”, “BAC”, “BCA”, “CBA”, “CAB”*\n",
    "\n",
    "#**Example 2:**\n",
    "\n",
    "#***Input:***\n",
    "\n",
    "#*S = “XY”*\n",
    "\n",
    "#***Output:***\n",
    "\n",
    "#*“XY”, “YX”*\n",
    "\n",
    "class PermutationGenerator:\n",
    "    def permute(self, S, left, right):\n",
    "        if left == right:\n",
    "            print(\"\".join(S))\n",
    "        else:\n",
    "            for i in range(left, right + 1):\n",
    "                S[left], S[i] = S[i], S[left]  # Swap characters\n",
    "                self.permute(S, left + 1, right)  # Recurse on the remaining substring\n",
    "                S[left], S[i] = S[i], S[left]  # Revert the swap\n",
    "\n",
    "    def generatePermutations(self, S):\n",
    "        self.permute(list(S), 0, len(S) - 1)\n",
    "generator = PermutationGenerator()\n",
    "\n",
    "generator.generatePermutations(\"ABC\")\n",
    "# Output:\n",
    "# ABC\n",
    "# ACB\n",
    "# BAC\n",
    "# BCA\n",
    "# CBA\n",
    "# CAB\n",
    "\n",
    "generator.generatePermutations(\"XY\")\n",
    "# Output:\n",
    "# XY\n",
    "# YX\n"
   ]
  },
  {
   "cell_type": "code",
   "execution_count": 8,
   "id": "f18c01d4",
   "metadata": {},
   "outputs": [
    {
     "name": "stdout",
     "output_type": "stream",
     "text": [
      "120\n",
      "18\n"
     ]
    }
   ],
   "source": [
    "#**Question 8**\n",
    "\n",
    "#Given an array, find a product of all array elements.\n",
    "\n",
    "#**Example 1:**\n",
    "\n",
    "#Input  : arr[] = {1, 2, 3, 4, 5}\n",
    "#Output : 120\n",
    "#**Example 2:**\n",
    "\n",
    "#Input  : arr[] = {1, 6, 3}\n",
    "#Output : 18\n",
    "\n",
    "class ProductFinder:\n",
    "    def findProduct(self, arr, n):\n",
    "        if n == 1:\n",
    "            return arr[0]\n",
    "        else:\n",
    "            return arr[n-1] * self.findProduct(arr, n-1)\n",
    "finder = ProductFinder()\n",
    "\n",
    "arr1 = [1, 2, 3, 4, 5]\n",
    "print(finder.findProduct(arr1, len(arr1)))  # Output: 120\n",
    "\n",
    "arr2 = [1, 6, 3]\n",
    "print(finder.findProduct(arr2, len(arr2)))  # Output: 18\n"
   ]
  },
  {
   "cell_type": "code",
   "execution_count": null,
   "id": "45882fcb",
   "metadata": {},
   "outputs": [],
   "source": []
  }
 ],
 "metadata": {
  "kernelspec": {
   "display_name": "Python 3 (ipykernel)",
   "language": "python",
   "name": "python3"
  },
  "language_info": {
   "codemirror_mode": {
    "name": "ipython",
    "version": 3
   },
   "file_extension": ".py",
   "mimetype": "text/x-python",
   "name": "python",
   "nbconvert_exporter": "python",
   "pygments_lexer": "ipython3",
   "version": "3.9.12"
  }
 },
 "nbformat": 4,
 "nbformat_minor": 5
}
