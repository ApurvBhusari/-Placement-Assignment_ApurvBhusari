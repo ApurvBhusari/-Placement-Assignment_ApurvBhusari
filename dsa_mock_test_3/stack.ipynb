{
 "cells": [
  {
   "cell_type": "code",
   "execution_count": 1,
   "id": "656bb0a1",
   "metadata": {},
   "outputs": [
    {
     "name": "stdout",
     "output_type": "stream",
     "text": [
      "3\n",
      "2\n",
      "1\n",
      "None\n",
      "True\n"
     ]
    }
   ],
   "source": [
    "#Implement a stack using a list in Python. Include the necessary methods such as push, pop, and isEmpty.\n",
    "class Stack:\n",
    "    def __init__(self):\n",
    "        self.stack = []  # Create an empty list to represent the stack\n",
    "\n",
    "    def push(self, item):\n",
    "        self.stack.append(item)  # Add the item to the top of the stack\n",
    "\n",
    "    def pop(self):\n",
    "        if not self.isEmpty():  # Check if the stack is not empty\n",
    "            return self.stack.pop()  # Remove and return the topmost element\n",
    "        else:\n",
    "            return None  # Return None if stack is empty\n",
    "\n",
    "    def isEmpty(self):\n",
    "        return len(self.stack) == 0  # Check if the stack is empty\n",
    "\n",
    "# Usage example\n",
    "stack = Stack()\n",
    "\n",
    "stack.push(1)  # Push 1 onto the stack\n",
    "stack.push(2)  # Push 2 onto the stack\n",
    "stack.push(3)  # Push 3 onto the stack\n",
    "\n",
    "print(stack.pop())  # Output: 3\n",
    "print(stack.pop())  # Output: 2\n",
    "print(stack.pop())  # Output: 1\n",
    "print(stack.pop())  # Output: None, as the stack is now empty\n",
    "print(stack.isEmpty())  # Output: True, as the stack is empty\n"
   ]
  },
  {
   "cell_type": "code",
   "execution_count": null,
   "id": "27104421",
   "metadata": {},
   "outputs": [],
   "source": []
  }
 ],
 "metadata": {
  "kernelspec": {
   "display_name": "Python 3 (ipykernel)",
   "language": "python",
   "name": "python3"
  },
  "language_info": {
   "codemirror_mode": {
    "name": "ipython",
    "version": 3
   },
   "file_extension": ".py",
   "mimetype": "text/x-python",
   "name": "python",
   "nbconvert_exporter": "python",
   "pygments_lexer": "ipython3",
   "version": "3.9.12"
  }
 },
 "nbformat": 4,
 "nbformat_minor": 5
}
