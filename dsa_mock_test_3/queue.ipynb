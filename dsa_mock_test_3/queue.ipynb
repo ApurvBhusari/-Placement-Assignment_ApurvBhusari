{
 "cells": [
  {
   "cell_type": "code",
   "execution_count": 1,
   "id": "640c93ad",
   "metadata": {},
   "outputs": [
    {
     "name": "stdout",
     "output_type": "stream",
     "text": [
      "1\n",
      "2\n",
      "3\n",
      "None\n",
      "True\n"
     ]
    }
   ],
   "source": [
    "#Implement a queue using a list in Python. Include the necessary methods such as enqueue, dequeue, and isEmpty.\n",
    "\n",
    "class Queue:\n",
    "    def __init__(self):\n",
    "        self.queue = []  # Create an empty list to represent the queue\n",
    "\n",
    "    def enqueue(self, item):\n",
    "        self.queue.append(item)  # Add the item to the rear of the queue\n",
    "\n",
    "    def dequeue(self):\n",
    "        if not self.isEmpty():  # Check if the queue is not empty\n",
    "            return self.queue.pop(0)  # Remove and return the frontmost element\n",
    "        else:\n",
    "            return None  # Return None if queue is empty\n",
    "\n",
    "    def isEmpty(self):\n",
    "        return len(self.queue) == 0  # Check if the queue is empty\n",
    "\n",
    "# Usage example\n",
    "queue = Queue()\n",
    "\n",
    "queue.enqueue(1)  # Enqueue 1 into the queue\n",
    "queue.enqueue(2)  # Enqueue 2 into the queue\n",
    "queue.enqueue(3)  # Enqueue 3 into the queue\n",
    "\n",
    "print(queue.dequeue())  # Output: 1\n",
    "print(queue.dequeue())  # Output: 2\n",
    "print(queue.dequeue())  # Output: 3\n",
    "print(queue.dequeue())  # Output: None, as the queue is now empty\n",
    "print(queue.isEmpty())  # Output: True, as the queue is empty\n"
   ]
  },
  {
   "cell_type": "code",
   "execution_count": null,
   "id": "4d184f62",
   "metadata": {},
   "outputs": [],
   "source": []
  }
 ],
 "metadata": {
  "kernelspec": {
   "display_name": "Python 3 (ipykernel)",
   "language": "python",
   "name": "python3"
  },
  "language_info": {
   "codemirror_mode": {
    "name": "ipython",
    "version": 3
   },
   "file_extension": ".py",
   "mimetype": "text/x-python",
   "name": "python",
   "nbconvert_exporter": "python",
   "pygments_lexer": "ipython3",
   "version": "3.9.12"
  }
 },
 "nbformat": 4,
 "nbformat_minor": 5
}
